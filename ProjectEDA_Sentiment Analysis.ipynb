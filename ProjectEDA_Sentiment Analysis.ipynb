{
 "cells": [
  {
   "cell_type": "markdown",
   "metadata": {
    "id": "WZ0Z767cxWJC"
   },
   "source": [
    "# **Executive Summary of Project:**\n",
    "  - Consolidate all reviews to rate each aspect of a restaurant, if the rating is too low or high, our code can automatically generate a comment to consolidate the majority of reviews on the rating. To establish market trends based on the customer data available to us, which will help the restaurants to identify focus areas based on current customer preference\n",
    "Subsequently, identify specific aspects that can help improve the restaurant's services by assessing ratings for different aspects such as food, service, ambiance, etc. If a low rating is detected for a particular aspect (e.g., food), the code will further analyze the reviews to pinpoint specific dishes that need improvement and suggest ways to enhance them. This approach aims to provide actionable insights for restaurants to enhance customer satisfaction and overall service quality.\n",
    "\n",
    "# **Data Sources:**\n",
    "  - yelp_academic_dataset_business.json\n",
    "  - yelp_academic_dataset_review.json"
   ]
  },
  {
   "cell_type": "markdown",
   "metadata": {
    "id": "zVCJuXrwL4da"
   },
   "source": [
    "# **filtering/selection criteria**\n",
    "\n",
    "In the Yelp dataset, we have access to numerous restaurants and businesses from different regions. By analyzing the reviews collected on the website, we can evaluate these restaurants and businesses. To eliminate regional biases in this project, we will focus solely on restaurants in Arizona. Through this analysis of reviews, we aim to identify the strengths and areas for improvement of Arizona's restaurants. Besides filtering by region, to ensure a more accurate analysis of the reviews, we've decided to include only those restaurants that are still operational. Additionally, we will concentrate on restaurants with more than 200 reviews to avoid the influence of outliers that might skew the overall trend. We believe that past data might not accurately reflect the current situation of restaurants; therefore, we will only select reviews from 2019 onwards for our analysis.\n",
    "\n",
    "\n",
    "### **Final selection criteria:**\n",
    "\n",
    "1.Restaurants located in Arizona.\n",
    "\n",
    "2.Restaurants that are still in operation.\n",
    "\n",
    "3.Restaurants with a total number of reviews greater than 200.\n",
    "\n",
    "4.Only reviews from 2019 onwards are selected for analysis."
   ]
  },
  {
   "cell_type": "code",
   "execution_count": 6,
   "metadata": {
    "colab": {
     "base_uri": "https://localhost:8080/"
    },
    "id": "cC8TH5lSActa",
    "outputId": "b302a8e5-c545-43d4-9dfc-3214963b9732"
   },
   "outputs": [
    {
     "name": "stdout",
     "output_type": "stream",
     "text": [
      "Collecting vaderSentiment\n",
      "  Downloading vaderSentiment-3.3.2-py2.py3-none-any.whl (125 kB)\n",
      "\u001b[2K     \u001b[90m━━━━━━━━━━━━━━━━━━━━━━━━━━━━━━━━━━━━━━━━\u001b[0m \u001b[32m126.0/126.0 kB\u001b[0m \u001b[31m5.3 MB/s\u001b[0m eta \u001b[36m0:00:00\u001b[0m\n",
      "\u001b[?25hRequirement already satisfied: requests in /usr/local/lib/python3.10/dist-packages (from vaderSentiment) (2.31.0)\n",
      "Requirement already satisfied: charset-normalizer<4,>=2 in /usr/local/lib/python3.10/dist-packages (from requests->vaderSentiment) (3.3.2)\n",
      "Requirement already satisfied: idna<4,>=2.5 in /usr/local/lib/python3.10/dist-packages (from requests->vaderSentiment) (3.6)\n",
      "Requirement already satisfied: urllib3<3,>=1.21.1 in /usr/local/lib/python3.10/dist-packages (from requests->vaderSentiment) (2.0.7)\n",
      "Requirement already satisfied: certifi>=2017.4.17 in /usr/local/lib/python3.10/dist-packages (from requests->vaderSentiment) (2024.2.2)\n",
      "Installing collected packages: vaderSentiment\n",
      "Successfully installed vaderSentiment-3.3.2\n"
     ]
    }
   ],
   "source": [
    "!pip install vaderSentiment\n"
   ]
  },
  {
   "cell_type": "code",
   "execution_count": 7,
   "metadata": {
    "colab": {
     "base_uri": "https://localhost:8080/"
    },
    "id": "uETU1ZCF8NdA",
    "outputId": "49fbc2c9-8547-49d1-f9ac-602bd3b33ea5"
   },
   "outputs": [
    {
     "name": "stdout",
     "output_type": "stream",
     "text": [
      "Mounted at /content/drive\n"
     ]
    }
   ],
   "source": [
    "# Import necessary libraries\n",
    "import pandas as pd\n",
    "from sklearn.model_selection import train_test_split\n",
    "from sklearn.feature_extraction.text import CountVectorizer, TfidfVectorizer\n",
    "from sklearn.naive_bayes import MultinomialNB\n",
    "from sklearn.svm import SVC\n",
    "from sklearn.metrics import accuracy_score, classification_report\n",
    "from vaderSentiment.vaderSentiment import SentimentIntensityAnalyzer\n",
    "\n",
    "from google.colab import drive\n",
    "drive.mount('/content/drive')"
   ]
  },
  {
   "cell_type": "code",
   "execution_count": 8,
   "metadata": {
    "id": "tIiqw_t28EMV"
   },
   "outputs": [],
   "source": [
    "# File paths for each dataset\n",
    "business_file_path = '/content/drive/MyDrive/yelp_academic_dataset_business.json'\n",
    "review_file_path = '/content/drive/MyDrive/yelp_academic_dataset_review.json'\n",
    "df = pd.read_json(business_file_path, lines=True)"
   ]
  },
  {
   "cell_type": "code",
   "execution_count": 9,
   "metadata": {
    "id": "Yjqble8d_MCZ"
   },
   "outputs": [],
   "source": [
    "business_df = pd.read_json(business_file_path, lines=True)\n",
    "# Filter business IDs for Restaurants in Arizona and fit other filtered condition we set\n",
    "restaurant_business_ids_az = business_df.dropna(subset=['categories', 'state'])\n",
    "restaurant_business_ids_az = restaurant_business_ids_az[\n",
    "    (restaurant_business_ids_az['categories'].apply(lambda x: 'Restaurants' in x)) &\n",
    "    (restaurant_business_ids_az['state'] == 'AZ')&\n",
    "    (restaurant_business_ids_az['is_open'] == 1) &\n",
    "    (restaurant_business_ids_az['review_count'] > 200)\n",
    "]['business_id']"
   ]
  },
  {
   "cell_type": "code",
   "execution_count": 10,
   "metadata": {
    "id": "ZRUdXfWU-vvv"
   },
   "outputs": [],
   "source": [
    "# Extract the reviews are from those restaurants\n",
    "chunk_size = 10000\n",
    "filtered_reviews = pd.DataFrame()\n",
    "\n",
    "for chunk in pd.read_json(review_file_path, lines=True, chunksize=chunk_size):\n",
    "    filtered_chunk = chunk[chunk['business_id'].isin(restaurant_business_ids_az)]\n",
    "    filtered_reviews = pd.concat([filtered_reviews, filtered_chunk], ignore_index=True)\n"
   ]
  },
  {
   "cell_type": "code",
   "execution_count": 11,
   "metadata": {
    "colab": {
     "base_uri": "https://localhost:8080/"
    },
    "id": "uQY5R8tqTTwt",
    "outputId": "3e6f3972-c22c-491a-ef70-93599c6c3252"
   },
   "outputs": [
    {
     "name": "stdout",
     "output_type": "stream",
     "text": [
      "Filtered restaurant count: 315\n",
      "Filtered reviews count: 128877\n",
      "                review_id                 user_id             business_id  \\\n",
      "0  UBp0zWyH60Hmw6Fsasei7w  4Uh27DgGzsp6PqrH913giQ  otQS34_MymijPTdNBoBdCw   \n",
      "1  jlvaJo1I56NrZ1Q1CUuuRw  17jzGkFYCvB5Q0fjJEzVAA  otQS34_MymijPTdNBoBdCw   \n",
      "2  f7fAYGJpd4gZAoJxuJcciw  LpZfJekvMo5S61UBAmuyHw  cXAKeC-EgVChIxhS7fscmw   \n",
      "3  b0AI6U9CCWpFKI3iPLYiow  _l0csyXqNIcb3vG-1qR8DQ  UCMSWPqzXjd7QHq7v8PJjQ   \n",
      "4  chtDBb_3unH0Wcs3W2Iahw  gSp5C3BfIVAHdH27rzoCDQ  RhuYqAT45uIR2NNdDsolXQ   \n",
      "\n",
      "   stars  useful  funny  cool  \\\n",
      "0      4       0      2     0   \n",
      "1      4       0      0     0   \n",
      "2      5       2      0     0   \n",
      "3      4       0      0     0   \n",
      "4      5       1      0     1   \n",
      "\n",
      "                                                text                date  \n",
      "0  The bun makes the Sonoran Dog. It's like a snu... 2011-10-27 17:12:05  \n",
      "1  I was told this place is a must for a Sonoran ... 2017-06-17 17:17:29  \n",
      "2  The food at Ghini's is just delicious. Everyth... 2011-05-27 15:44:29  \n",
      "3  I really like Prep & Pastry - we have been twi... 2017-09-20 18:19:33  \n",
      "4  Some of the finest Mexican food I've had. The ... 2017-07-18 18:47:24  \n"
     ]
    }
   ],
   "source": [
    "# Shoe how many restaurants in fit our conditions and how many reviews from these restaurants\n",
    "filtered_business_count = len(restaurant_business_ids_az)\n",
    "filtered_reviews_count = len(filtered_reviews)\n",
    "print(f\"Filtered restaurant count: {filtered_business_count}\")\n",
    "print(f\"Filtered reviews count: {filtered_reviews_count}\")\n",
    "\n",
    "print(filtered_reviews.head())"
   ]
  },
  {
   "cell_type": "code",
   "execution_count": 12,
   "metadata": {
    "colab": {
     "base_uri": "https://localhost:8080/"
    },
    "id": "jxDB4oiuJUiU",
    "outputId": "c2a8130f-7947-49a3-bbab-cea308c9c63b"
   },
   "outputs": [
    {
     "name": "stdout",
     "output_type": "stream",
     "text": [
      "Filtered reviews count after 2019: 40151\n",
      "                   review_id                 user_id             business_id  \\\n",
      "4096  o21Vkq6AGh51jd1aE5jneA  G4My7ocIUlFXA0G1dMcQBQ  -y5vYOsyL4bSFxeOtQtYbg   \n",
      "4253  kIqFgvfLAcw79HQ9XrGt6w  kjqtKg38NwHAeaq5Fjc5CA  UCMSWPqzXjd7QHq7v8PJjQ   \n",
      "4319  i6B0syPgvDRsbC3BoQAP0Q  R3jqRDnxR0OnsBPHvp49hw  XyGRDrgCK0z4CiA6nhwEaw   \n",
      "4320  aIeYCh7CbLKNsQbXi47r0Q  1h40OGNNcZ0nrrdJh4PEww  XyGRDrgCK0z4CiA6nhwEaw   \n",
      "4322  i-o2OTun3sVEI5GCP1ZKZQ  hSUgs37OCwU0QZVVjSB0gw  wJmyu7W1K9A_gE8Ed4Bc9w   \n",
      "\n",
      "      stars  useful  funny  cool  \\\n",
      "4096      5       0      0     1   \n",
      "4253      5       0      0     0   \n",
      "4319      5       0      1     0   \n",
      "4320      5       1      0     0   \n",
      "4322      5       0      0     0   \n",
      "\n",
      "                                                   text                date  \n",
      "4096  Fabulous place! So much better than Whole Food... 2019-01-17 23:29:41  \n",
      "4253  This place puts Tucson breakfast on the map! I... 2019-03-14 19:26:55  \n",
      "4319  So happy that Tucson now has a Persian Restaur... 2019-03-18 15:56:02  \n",
      "4320  Excellent Persian food!  So glad they opened a... 2019-02-03 18:28:38  \n",
      "4322  No ketchup needed!\\n\\nLet me preface this revi... 2019-07-05 19:42:53  \n"
     ]
    }
   ],
   "source": [
    "# filter the review after 2019\n",
    "\n",
    "filtered_reviews['date'] = pd.to_datetime(filtered_reviews['date'])\n",
    "\n",
    "filtered_reviews_after_2019 = filtered_reviews[filtered_reviews['date'] > '2019-01-01']\n",
    "\n",
    "print(f\"Filtered reviews count after 2019: {len(filtered_reviews_after_2019)}\")\n",
    "print(filtered_reviews_after_2019.head())\n"
   ]
  },
  {
   "cell_type": "code",
   "execution_count": 37,
   "metadata": {
    "colab": {
     "base_uri": "https://localhost:8080/"
    },
    "id": "oh3kdrxRtmO8",
    "outputId": "0c7ceb11-eaee-45ce-f814-9bf6df665d86"
   },
   "outputs": [
    {
     "name": "stdout",
     "output_type": "stream",
     "text": [
      "4096                                                                                                                                                                                                                                                                                                                                                                                                                                                                                                                                                                                                                                                                                                                                                                                                                                                                                                                                                                                                                                                                                                                                                                                                                                                                                                                                                                                                                                                                                                                                                                                                                                                                                                                                                                                                                                                                                                                                                                                                                                                                                                                                                                                                                                                                                                                                                           Fabulous place! So much better than Whole Foods. Great daily fresh soups - many \"gluten free\" for folks with Celiac Disease like myself. And the staff is very knowledgeable about gluten free food in general. Thank you AJ's!\n",
      "4253                                                                                                                                                                                                                                                                                                                                                                                                                                                                                                                                                                                                                                                                                                                                                                                                                                                                                                                                                                                                                                                                                                                                                                                                                                                                                                                                                                                                                                                                                                                                                                                                                                                                                                                                                                                                                                                                                                                                      This place puts Tucson breakfast on the map! I wish Prep & Pastry existed when I was going to UofA. They have a HUGE selection of breakfast cocktails including 9 different flavors of mimosas. I went for the prickly pear mimosa and would recommend it. For food we got the classic French toast, biscuit & gravy with fried chicken, sweet breakfast bowl, and a side of potatoes. Everything was fantastic! If you're looking for a gut bomb, the biscuit & gravy with fried chicken can't be beat. The French toast is some of the best I've had. Highly recommend the potatoes, they were arguably the best breakfast potatoes I've ever had.\n",
      "4319    So happy that Tucson now has a Persian Restaurant!\\nBonus - It is Very good and has some of my favorite Persian dishes.\\n\\n1.Location - Seems to be a strange location, Far NW Tucson (dare I say Marana), empty strip mall, across from Mt View High School and Crooked Tree Golf Course.   But don't let that put you off it will surprise you walking inside\\n2. Decor - Gorgeous and very decadent and Fancy, but this is Tucson, so it is okay to be in shorts, but this is something I would expect to see in upscale resort in LA.    Very Instagram worthy.\\n3. Service - Outstanding, we arrived on Sunday evening and Friendly greeted at the door and shown our table.   Service was friendly and happy to help us with our choices.  Very knowledgeable about menu and options.  They did not linger over us, but made sure we were happy with our choices and checked on us off and on during the meal.  promptly getting refills.  As we left the restaurant, every thanked us for coming. \\n\\n4. Cocktails Full bar and even has a Bar area, that was empty on Sunday evening.   Drinks were strong and very good.   Seems like it would be a good place to hang after a round of golf, if you wanted something more than the golf course bar\\n\\n4.  Food.  They excel here.  Lots of choices and as I mentioned many of my favorites.  Many of the options are Gluten free.  They did bring out a Warm Flat bread which was very tasty (Don't think that was Gluten free)   We started with Tah Dig & Ghormeh Sabzy.   It was the first time that I had those 2 combined, Generally we would have Tah Dig (Crusty, buttery Rice) alone almost like our Bread for the meal.  Ghormeh Sabzy was as good as I have had in the past.  Beef was very tender and the \"gravy\" was flavorful.  We each had a entree,   Koohidah, Lamb Shanks and Lamb Shish kebabs, which was  way too much food and Rice for 3 people,    Each dish is served with Basamati Rice (which you could ask for Half Rice and Half Salad, but we forgot to do that.   Everything was very good and the lamb they said was very tender.   We had a lot of food to take home and enjoy the next day\\n\\n5. Price  On par with  most upscale restaurants you have in the Foothills.   But well worth the price of what we got and the service.   You could probably order fewer dishes and split with multiple people,\\n\\nI will come back and try out their Lunch menu. Hoping it is not as much food as the dinner menu, but who cares if it is good tasting.  \\n\\nHurray for Persian food in Tucson.\n",
      "4320                                                                                                                                                                                                                                                                                                                                                                                                                                                                                                                                                                                                                                                                                                                                                                                                                                                                                                                                                                                                                                                                                                                                                                                                                                                                                                                                                                                                                                                                                                                                                                                                                                                                                                                                                                                                                                                                                                                                                                                                                                                                                                                                                                                                                                                                                                                                                                                                                                             Excellent Persian food!  So glad they opened a Tucson location.  We have eaten here numerous times, and loved it each time.  We will be back!\n",
      "4322                                                                                                                                                                                                                                                                                                                                                                                                                                                                                                                                                                                                                                                                                                                                                                                                                                                                                                                                                                                                                                                                                                                                                                                                                                                                                                                                                                                                                                                                                                                                              No ketchup needed!\\n\\nLet me preface this review by saying that I absolutely love an amazing burger.  Many burger joints serve good burgers.  Trident serves a masterpiece in their Steakhouse Burger.  \\n\\nA soft and grilled brioche bun starts off this burger journey as the base.  Although you could savor the taste of the grass fed beef all by itself, Trident Grill perfectly pairs grilled onions and mushrooms, blue cheese, horseradish, and an amazing balsamic sauce that awakens your taste buds around every turn.  On the cook, I asked for medium, and the patty came out pink in the middle and succulent throughout each bite.\\n\\nInstead of fries, I opted for the Mac and Cheese.  This side did NOT disappoint!  The cheddar was toasted on top to create a brownish hue that you can almost taste just by looking at it.  Underneath the layer of baked on cheese...shell noodles in a light creamy cheddar cheese sauce.  Awesome.\\n\\nMy taste buds have been worked over today...I wish I had room for ice cream!\n",
      "Name: text, dtype: object\n"
     ]
    }
   ],
   "source": [
    "print(filtered_reviews_after_2019['text'].head(200))"
   ]
  },
  {
   "cell_type": "markdown",
   "metadata": {
    "id": "K9VEc_PUztnZ"
   },
   "source": [
    "# **Summary Statistics of the Data**\n",
    "- Number of reviews:40151\n",
    "- Total number of tokens:4076727\n",
    "- Number of unique words (i.e., size of vocabulary):51846\n",
    "- Average review length (i.e., average number of words of each review):88.58571392991458\n",
    "- Number of unique customers:21388\n",
    "- Other key elements involved\n",
    "  - number of businesses/regions covered: AZ\n",
    "  - average stars per review:3.54\n",
    "  - distribution of stars:\n",
    "    - 1:    12385\n",
    "    - 2:    10694\n",
    "    - 3:    13806\n",
    "    - 4:    30552\n",
    "    - 5:    61440"
   ]
  },
  {
   "cell_type": "code",
   "execution_count": 13,
   "metadata": {
    "colab": {
     "base_uri": "https://localhost:8080/"
    },
    "id": "NiTyldhuBj6r",
    "outputId": "3e3b4974-2bcf-48ce-9295-acfab47961a2"
   },
   "outputs": [
    {
     "name": "stderr",
     "output_type": "stream",
     "text": [
      "[nltk_data] Downloading package punkt to /root/nltk_data...\n",
      "[nltk_data]   Unzipping tokenizers/punkt.zip.\n"
     ]
    },
    {
     "name": "stdout",
     "output_type": "stream",
     "text": [
      "Filtered reviews count after 2019: 40151\n",
      "Total number of tokens: 4076727\n",
      "Size of vocabulary: 51846\n"
     ]
    }
   ],
   "source": [
    "# find number of reviews, total number of tokens, number of unique words (i.e., size of vocabulary) **\n",
    "import nltk\n",
    "from nltk.tokenize import word_tokenize\n",
    "\n",
    "nltk.download('punkt')\n",
    "\n",
    "all_text = \" \".join(filtered_reviews_after_2019['text'])\n",
    "\n",
    "tokens = word_tokenize(all_text)\n",
    "\n",
    "total_tokens = len(tokens)\n",
    "\n",
    "unique_words = set(tokens)\n",
    "vocabulary_size = len(unique_words)\n",
    "\n",
    "print(f\"Filtered reviews count after 2019: {len(filtered_reviews_after_2019)}\")\n",
    "print(f\"Total number of tokens: {total_tokens}\")\n",
    "print(f\"Size of vocabulary: {vocabulary_size}\")\n"
   ]
  },
  {
   "cell_type": "code",
   "execution_count": 14,
   "metadata": {
    "colab": {
     "base_uri": "https://localhost:8080/"
    },
    "id": "zqe3VzS1Ea1O",
    "outputId": "68e0e167-4661-4b27-e325-a868d96b7603"
   },
   "outputs": [
    {
     "name": "stdout",
     "output_type": "stream",
     "text": [
      "Average review length (in words): 88.58571392991458\n"
     ]
    },
    {
     "name": "stderr",
     "output_type": "stream",
     "text": [
      "<ipython-input-14-f3c0ce46104d>:2: SettingWithCopyWarning: \n",
      "A value is trying to be set on a copy of a slice from a DataFrame.\n",
      "Try using .loc[row_indexer,col_indexer] = value instead\n",
      "\n",
      "See the caveats in the documentation: https://pandas.pydata.org/pandas-docs/stable/user_guide/indexing.html#returning-a-view-versus-a-copy\n",
      "  filtered_reviews_after_2019['word_count'] = filtered_reviews_after_2019['text'].apply(lambda x: len(x.split()))\n"
     ]
    }
   ],
   "source": [
    "# Average review length\n",
    "filtered_reviews_after_2019['word_count'] = filtered_reviews_after_2019['text'].apply(lambda x: len(x.split()))\n",
    "average_review_length = filtered_reviews_after_2019['word_count'].mean()\n",
    "\n",
    "print(f\"Average review length (in words): {average_review_length}\")"
   ]
  },
  {
   "cell_type": "code",
   "execution_count": 15,
   "metadata": {
    "colab": {
     "base_uri": "https://localhost:8080/"
    },
    "id": "YQFM8oGduOao",
    "outputId": "6098e7ab-4038-4c5b-a2ef-82fa74d54b93"
   },
   "outputs": [
    {
     "name": "stdout",
     "output_type": "stream",
     "text": [
      "Number of unique customers: 21388\n"
     ]
    }
   ],
   "source": [
    "# Number of unique customers\n",
    "\n",
    "unique_customers_count = filtered_reviews_after_2019['user_id'].nunique()\n",
    "\n",
    "print(f\"Number of unique customers: {unique_customers_count}\")"
   ]
  },
  {
   "cell_type": "markdown",
   "metadata": {
    "id": "WCKbQmvQWm1k"
   },
   "source": [
    "## **Business Data exploration**\n",
    "### In this part we will delve in business dataset and try to find uf there have any tren in Arizona resturant"
   ]
  },
  {
   "cell_type": "code",
   "execution_count": 16,
   "metadata": {
    "colab": {
     "base_uri": "https://localhost:8080/"
    },
    "id": "AOMiQfQFKqcM",
    "outputId": "15b07a94-2a2b-46ac-dfd8-ff228285db8e"
   },
   "outputs": [
    {
     "name": "stdout",
     "output_type": "stream",
     "text": [
      "<class 'pandas.core.frame.DataFrame'>\n",
      "RangeIndex: 150346 entries, 0 to 150345\n",
      "Data columns (total 14 columns):\n",
      " #   Column        Non-Null Count   Dtype  \n",
      "---  ------        --------------   -----  \n",
      " 0   business_id   150346 non-null  object \n",
      " 1   name          150346 non-null  object \n",
      " 2   address       150346 non-null  object \n",
      " 3   city          150346 non-null  object \n",
      " 4   state         150346 non-null  object \n",
      " 5   postal_code   150346 non-null  object \n",
      " 6   latitude      150346 non-null  float64\n",
      " 7   longitude     150346 non-null  float64\n",
      " 8   stars         150346 non-null  float64\n",
      " 9   review_count  150346 non-null  int64  \n",
      " 10  is_open       150346 non-null  int64  \n",
      " 11  attributes    136602 non-null  object \n",
      " 12  categories    150243 non-null  object \n",
      " 13  hours         127123 non-null  object \n",
      "dtypes: float64(3), int64(2), object(9)\n",
      "memory usage: 16.1+ MB\n"
     ]
    }
   ],
   "source": [
    "import pandas as pd\n",
    "import json\n",
    "\n",
    "# Function to load a file where each line is a separate JSON object\n",
    "def load_json_to_df(filepath):\n",
    "    with open(filepath, 'r', encoding='utf-8') as file:\n",
    "        data = [json.loads(line) for line in file]\n",
    "    return pd.DataFrame(data)\n",
    "\n",
    "df = load_json_to_df(business_file_path)\n",
    "\n",
    "# Display the DataFrame information\n",
    "df.info()\n"
   ]
  },
  {
   "cell_type": "code",
   "execution_count": 17,
   "metadata": {
    "colab": {
     "base_uri": "https://localhost:8080/"
    },
    "id": "HMnyB6IPMsR1",
    "outputId": "77a0e3d6-de9b-46d8-f6ae-c6f2e8bc44a8"
   },
   "outputs": [
    {
     "name": "stdout",
     "output_type": "stream",
     "text": [
      "Total businesses in Arizona: 9912\n",
      "Total businesses in Tempe and nearby cities: 0\n",
      "Data for Tempe and nearby cities is not sufficient for detailed analysis.\n"
     ]
    }
   ],
   "source": [
    "# Assuming df is the DataFrame you have already loaded with the Yelp data\n",
    "\n",
    "# Filter the DataFrame for businesses in Arizona (AZ)\n",
    "df_az = df[df['state'] == 'AZ']\n",
    "\n",
    "# Check how many businesses there are in Tempe, AZ and nearby cities\n",
    "cities_near_tempe = ['Tempe', 'Scottsdale', 'Mesa', 'Chandler', 'Phoenix']\n",
    "df_tempe_nearby = df_az[df_az['city'].isin(cities_near_tempe)]\n",
    "\n",
    "# Output the counts for the whole state of AZ and for Tempe + nearby cities\n",
    "count_az = df_az.shape[0]\n",
    "count_tempe_nearby = df_tempe_nearby.shape[0]\n",
    "\n",
    "print(f\"Total businesses in Arizona: {count_az}\")\n",
    "print(f\"Total businesses in Tempe and nearby cities: {count_tempe_nearby}\")\n",
    "\n",
    "# Determine if the data is sufficient\n",
    "# Define a threshold for 'sufficient' data, for example 100\n",
    "sufficient_threshold = 100\n",
    "if count_tempe_nearby >= sufficient_threshold:\n",
    "    print(\"Data for Tempe and nearby cities is sufficient for analysis.\")\n",
    "else:\n",
    "    print(\"Data for Tempe and nearby cities is not sufficient for detailed analysis.\")\n"
   ]
  },
  {
   "cell_type": "code",
   "execution_count": 18,
   "metadata": {
    "colab": {
     "base_uri": "https://localhost:8080/"
    },
    "id": "-5HMqpZSNSz1",
    "outputId": "4d54a1cd-132e-46f2-b1f7-f27de5ccb550"
   },
   "outputs": [
    {
     "name": "stdout",
     "output_type": "stream",
     "text": [
      "Tucson              2466\n",
      "Oro Valley            80\n",
      "Marana                39\n",
      "Green Valley          26\n",
      "Sahuarita             17\n",
      "Vail                  16\n",
      "Catalina               7\n",
      "Tuscon                 5\n",
      "Mount Lemmon           4\n",
      "TUCSON                 2\n",
      "South Tucson           2\n",
      "Picture Rocks          1\n",
      "Corona De Tucson       1\n",
      "Casas Adobes           1\n",
      "Valencia West          1\n",
      "Drexel Heights         1\n",
      "tucson                 1\n",
      "Corona de Tucson       1\n",
      "Name: city, dtype: int64\n",
      "Mount Lemmon        4\n",
      "TUCSON              2\n",
      "South Tucson        2\n",
      "Picture Rocks       1\n",
      "Corona De Tucson    1\n",
      "Casas Adobes        1\n",
      "Valencia West       1\n",
      "Drexel Heights      1\n",
      "tucson              1\n",
      "Corona de Tucson    1\n",
      "Name: city, dtype: int64\n"
     ]
    }
   ],
   "source": [
    "# Assuming df_az is the DataFrame containing businesses in Arizona\n",
    "\n",
    "# Extract rows where 'categories' contains 'Restaurants'\n",
    "df_restaurants_az = df_az[df_az['categories'].str.contains('Restaurants', na=False)]\n",
    "\n",
    "# Group by the 'city' column and count the number of restaurants in each city\n",
    "restaurant_counts_by_city = df_restaurants_az['city'].value_counts()\n",
    "\n",
    "# Print the counts of restaurants in each city\n",
    "print(restaurant_counts_by_city)\n",
    "\n",
    "# You can also examine if there are cities with an unusually low number of restaurants\n",
    "print(restaurant_counts_by_city[restaurant_counts_by_city < 5])  # Example threshold\n"
   ]
  },
  {
   "cell_type": "code",
   "execution_count": 19,
   "metadata": {
    "colab": {
     "base_uri": "https://localhost:8080/"
    },
    "id": "CatfdXPLncJq",
    "outputId": "a95957fb-5ef7-41bb-f93b-e3c2b7afdf1f"
   },
   "outputs": [
    {
     "name": "stdout",
     "output_type": "stream",
     "text": [
      "Review counts by stars:\n",
      "1    12385\n",
      "2    10694\n",
      "3    13806\n",
      "4    30552\n",
      "5    61440\n",
      "Name: stars, dtype: int64\n"
     ]
    }
   ],
   "source": [
    "stars_distribution = filtered_reviews['stars'].value_counts().sort_index()\n",
    "\n",
    "print(\"Review counts by stars:\")\n",
    "print(stars_distribution)"
   ]
  },
  {
   "cell_type": "code",
   "execution_count": 20,
   "metadata": {
    "colab": {
     "base_uri": "https://localhost:8080/"
    },
    "id": "F6Rk-YgfOA1H",
    "outputId": "e130898b-3569-4cde-8430-c31ae6d97267"
   },
   "outputs": [
    {
     "name": "stdout",
     "output_type": "stream",
     "text": [
      "Overall average rating of restaurants in AZ: 3.45\n",
      "Top 5 cities by average restaurant rating:\n",
      "city\n",
      "Picture Rocks       5.000000\n",
      "Drexel Heights      4.500000\n",
      "Valencia West       4.000000\n",
      "Casas Adobes        4.000000\n",
      "Corona de Tucson    4.000000\n",
      "Corona De Tucson    4.000000\n",
      "tucson              3.500000\n",
      "Oro Valley          3.481250\n",
      "Tucson              3.462490\n",
      "Catalina            3.428571\n",
      "Name: stars, dtype: float64\n",
      "\n",
      "Bottom 5 cities by average restaurant rating:\n",
      "city\n",
      "Tucson          3.462490\n",
      "Catalina        3.428571\n",
      "Tuscon          3.400000\n",
      "Vail            3.343750\n",
      "Marana          3.282051\n",
      "Green Valley    3.173077\n",
      "Mount Lemmon    3.125000\n",
      "Sahuarita       3.058824\n",
      "South Tucson    2.250000\n",
      "TUCSON          1.750000\n",
      "Name: stars, dtype: float64\n"
     ]
    }
   ],
   "source": [
    "# Calculate the overall average rating of restaurants in AZ\n",
    "average_rating_az = df_restaurants_az['stars'].mean()\n",
    "\n",
    "# Group by 'city' and calculate the average rating for each city\n",
    "average_rating_by_city = df_restaurants_az.groupby('city')['stars'].mean().sort_values(ascending=False)\n",
    "\n",
    "# Output the overall average rating for AZ\n",
    "print(f\"Overall average rating of restaurants in AZ: {average_rating_az:.2f}\")\n",
    "\n",
    "# Output the average rating for the top 5 cities by average rating\n",
    "print(\"Top 5 cities by average restaurant rating:\")\n",
    "print(average_rating_by_city.head(10))\n",
    "\n",
    "# Output the average rating for the bottom 5 cities by average rating\n",
    "print(\"\\nBottom 5 cities by average restaurant rating:\")\n",
    "print(average_rating_by_city.tail(10))\n"
   ]
  },
  {
   "cell_type": "code",
   "execution_count": 21,
   "metadata": {
    "colab": {
     "base_uri": "https://localhost:8080/"
    },
    "id": "AkvYWOAyOsa9",
    "outputId": "1a7f1bbe-3078-4bf2-f4bc-77eaa3431759"
   },
   "outputs": [
    {
     "name": "stdout",
     "output_type": "stream",
     "text": [
      "Average restaurant rating by state:\n",
      "state\n",
      "MT     5.000000\n",
      "XMS    4.000000\n",
      "CA     3.762705\n",
      "LA     3.595192\n",
      "FL     3.578342\n",
      "ID     3.544931\n",
      "NV     3.537956\n",
      "PA     3.521557\n",
      "CO     3.500000\n",
      "HI     3.500000\n",
      "AB     3.495021\n",
      "NJ     3.484136\n",
      "TN     3.475184\n",
      "IN     3.464699\n",
      "AZ     3.453201\n",
      "MO     3.445844\n",
      "DE     3.426639\n",
      "IL     3.304171\n",
      "NC     2.000000\n",
      "Name: stars, dtype: float64\n",
      "\n",
      "Average restaurant rating in Arizona: 3.45\n",
      "\n",
      "Top 5 states by average restaurant rating:\n",
      "state\n",
      "MT     5.000000\n",
      "XMS    4.000000\n",
      "CA     3.762705\n",
      "LA     3.595192\n",
      "FL     3.578342\n",
      "Name: stars, dtype: float64\n",
      "\n",
      "Bottom 5 states by average restaurant rating:\n",
      "state\n",
      "AZ    3.453201\n",
      "MO    3.445844\n",
      "DE    3.426639\n",
      "IL    3.304171\n",
      "NC    2.000000\n",
      "Name: stars, dtype: float64\n"
     ]
    }
   ],
   "source": [
    "# Filter the DataFrame for businesses that are restaurants across all states\n",
    "df_restaurants = df[df['categories'].str.contains('Restaurants', na=False)]\n",
    "\n",
    "# Group by 'state' and calculate the average rating for each state\n",
    "average_rating_by_state = df_restaurants.groupby('state')['stars'].mean().sort_values(ascending=False)\n",
    "\n",
    "# Get the average rating for restaurants in Arizona for comparison\n",
    "average_rating_az = average_rating_by_state['AZ']\n",
    "\n",
    "# Output the overall average rating for restaurants in each state\n",
    "print(\"Average restaurant rating by state:\")\n",
    "print(average_rating_by_state)\n",
    "\n",
    "# Output the average rating for restaurants in Arizona\n",
    "print(f\"\\nAverage restaurant rating in Arizona: {average_rating_az:.2f}\")\n",
    "\n",
    "# Find the states with the highest and lowest average ratings for comparison\n",
    "highest_rating_states = average_rating_by_state.head(5)\n",
    "lowest_rating_states = average_rating_by_state.tail(5)\n",
    "\n",
    "print(\"\\nTop 5 states by average restaurant rating:\")\n",
    "print(highest_rating_states)\n",
    "\n",
    "print(\"\\nBottom 5 states by average restaurant rating:\")\n",
    "print(lowest_rating_states)\n"
   ]
  },
  {
   "cell_type": "code",
   "execution_count": 22,
   "metadata": {
    "colab": {
     "base_uri": "https://localhost:8080/",
     "height": 1000
    },
    "id": "yuPvnNvjP_gD",
    "outputId": "bde18b5e-54a0-415f-b146-710f060d22db"
   },
   "outputs": [
    {
     "data": {
      "image/png": "[encoded data removed]",
      "text/plain": [
       "<Figure size 1000x600 with 1 Axes>"
      ]
     },
     "metadata": {},
     "output_type": "display_data"
    },
    {
     "name": "stderr",
     "output_type": "stream",
     "text": [
      "<ipython-input-22-fbe9a1c60799>:28: FutureWarning: \n",
      "\n",
      "The `ci` parameter is deprecated. Use `errorbar=None` for the same effect.\n",
      "\n",
      "  sns.barplot(x='stars', y='city', data=df_top_cities, order=city_order, ci=None)\n"
     ]
    },
    {
     "data": {
      "image/png": "[encoded data removed]",
      "text/plain": [
       "<Figure size 1200x800 with 1 Axes>"
      ]
     },
     "metadata": {},
     "output_type": "display_data"
    },
    {
     "data": {
      "image/png": "[encoded data removed]",
      "text/plain": [
       "<Figure size 1200x800 with 1 Axes>"
      ]
     },
     "metadata": {},
     "output_type": "display_data"
    }
   ],
   "source": [
    "import pandas as pd\n",
    "import matplotlib.pyplot as plt\n",
    "import seaborn as sns\n",
    "\n",
    "# Load your dataset here if not already loaded\n",
    "# df = pd.read_json('path_to_your_dataset.json')\n",
    "# df_restaurants_az = df[df['state'] == 'AZ']\n",
    "\n",
    "# Now, let's create the plots\n",
    "\n",
    "# Set the aesthetic style of the plots\n",
    "sns.set_style(\"whitegrid\")\n",
    "\n",
    "# Plotting the distribution of restaurant ratings in Arizona\n",
    "plt.figure(figsize=(10, 6))\n",
    "sns.histplot(df_restaurants_az['stars'], bins=9, kde=False)\n",
    "plt.title('Distribution of Restaurant Ratings in Arizona')\n",
    "plt.xlabel('Rating')\n",
    "plt.ylabel('Number of Restaurants')\n",
    "plt.show()\n",
    "\n",
    "# Plotting the average rating of restaurants by city in Arizona\n",
    "# For visualization purposes, we will limit to top 20 cities by restaurant count\n",
    "top_cities_by_count = df_restaurants_az['city'].value_counts().head(20).index\n",
    "df_top_cities = df_restaurants_az[df_restaurants_az['city'].isin(top_cities_by_count)]\n",
    "plt.figure(figsize=(12, 8))\n",
    "city_order = df_top_cities.groupby('city')['stars'].mean().sort_values(ascending=False).index\n",
    "sns.barplot(x='stars', y='city', data=df_top_cities, order=city_order, ci=None)\n",
    "plt.title('Average Restaurant Rating by City in Arizona (Top 20)')\n",
    "plt.xlabel('Average Rating')\n",
    "plt.ylabel('City')\n",
    "plt.show()\n",
    "\n",
    "# Plotting the number of restaurants in the top 20 cities in Arizona\n",
    "plt.figure(figsize=(12, 8))\n",
    "sns.countplot(y='city', data=df_top_cities, order=city_order)\n",
    "plt.title('Number of Restaurants by City in Arizona (Top 20)')\n",
    "plt.xlabel('Number of Restaurants')\n",
    "plt.ylabel('City')\n",
    "plt.show()\n"
   ]
  },
  {
   "cell_type": "code",
   "execution_count": 28,
   "metadata": {
    "colab": {
     "base_uri": "https://localhost:8080/"
    },
    "id": "yuiZi-TqQEgc",
    "outputId": "9dee9ffd-d397-4ed0-ae3e-4c12010edab0"
   },
   "outputs": [
    {
     "name": "stdout",
     "output_type": "stream",
     "text": [
      "                business_id                     name  \\\n",
      "45   wghnIlMb_i5U46HMBGx9ig  China Dragon Restaurant   \n",
      "78   x9K0RfZaT_zlw6DklBDzjw  Gavi Italian Restaurant   \n",
      "126  anLQj9AM8vjbcLSIE0iUgg            Papa Murphy's   \n",
      "132  9C2rpb56aQvW0ViZHK9sPw    Home Plate Sports Pub   \n",
      "234  Y6heWJJ9AmEL58fZwgi9YQ           Rosati's Pizza   \n",
      "\n",
      "                             address    city state postal_code   latitude  \\\n",
      "45   1625 W Valencia Rd, Ste 101-103  Tucson    AZ       85746  32.132305   \n",
      "78    7401 N La Cholla Blvd, Ste 146  Tucson    AZ       85707  32.221667   \n",
      "126  7250 North La Cholla, Suite 186  Tucson    AZ       85741  32.338572   \n",
      "132                   4880 E 22nd St  Tucson    AZ       85711  32.206315   \n",
      "234                    2944 W Ina Rd  Tucson    AZ       85741  32.338724   \n",
      "\n",
      "      longitude  stars  review_count  is_open  \\\n",
      "45  -110.999985    3.0            23        0   \n",
      "78  -110.925833    3.5             9        0   \n",
      "126 -111.010760    4.0            22        1   \n",
      "132 -110.887843    3.5            56        1   \n",
      "234 -111.030310    4.0            58        1   \n",
      "\n",
      "                                            attributes  \\\n",
      "45   {'WiFi': ''no'', 'BusinessParking': '{'garage'...   \n",
      "78   {'RestaurantsPriceRange2': '2', 'RestaurantsRe...   \n",
      "126  {'OutdoorSeating': 'False', 'Alcohol': 'u'none...   \n",
      "132  {'RestaurantsGoodForGroups': 'True', 'Alcohol'...   \n",
      "234  {'RestaurantsDelivery': 'True', 'RestaurantsTa...   \n",
      "\n",
      "                                            categories  \\\n",
      "45                                Restaurants, Chinese   \n",
      "78                                Italian, Restaurants   \n",
      "126                                 Pizza, Restaurants   \n",
      "132          Bars, Restaurants, Sports Bars, Nightlife   \n",
      "234  Sports Bars, Bars, Nightlife, Italian, Restaur...   \n",
      "\n",
      "                                                 hours  \n",
      "45   {'Monday': '11:0-21:0', 'Tuesday': '11:0-21:0'...  \n",
      "78                                                None  \n",
      "126                                               None  \n",
      "132  {'Monday': '10:0-2:0', 'Tuesday': '10:0-2:0', ...  \n",
      "234  {'Monday': '0:0-0:0', 'Tuesday': '10:30-0:0', ...  \n"
     ]
    }
   ],
   "source": [
    "# include only businesses in Arizona that are categorized as restaurants\n",
    "df_restaurants_az = df[(df['state'] == 'AZ') & df['categories'].str.contains('Restaurants', na=False)]\n",
    "print(df_restaurants_az.head())"
   ]
  },
  {
   "cell_type": "markdown",
   "metadata": {
    "id": "g1dJKtBSjIyQ"
   },
   "source": [
    "# ***Summary after exploration***\n",
    "Arizona is an ideal demographic region for analysis based on its average restaurant rating in several ways:\n",
    "\n",
    "Benchmarking: Arizona's average restaurant rating provides a baseline for comparison with other states or regions. If Arizona's average is significantly higher or lower, it might indicate unique regional characteristics that contribute to customer satisfaction or dissatisfaction. This could make Arizona an interesting case study for what factors contribute to restaurant success or failure.\n",
    "\n",
    "Market Potential: An average rating can reflect the overall customer experience and satisfaction. A higher average rating in Arizona could suggest that restaurants are, on average, meeting or exceeding customer expectations, which might be indicative of a thriving food industry and a potentially lucrative market for new entrants or for existing businesses looking to expand.\n",
    "\n",
    "Demographic and Cultural Insights: Arizona's demographic diversity, including a mix of urban, suburban, and rural areas as well as a significant Hispanic and Native American population, might contribute to a variety of dining preferences and expectations. Analyzing Arizona could provide insights into how different demographic groups rate restaurants and what types of cuisine or dining experiences are preferred.\n",
    "\n",
    "Tourism Impact: Arizona is home to several tourist attractions, including the Grand Canyon, which may influence the restaurant industry. Tourists might rate restaurants differently than locals, and a study on Arizona's average ratings could help in understanding the impact of tourism on the restaurant market.\n",
    "\n",
    "Economic Factors: The economic climate of a region can affect disposable income and dining out frequency. Arizona's average rating may be tied to economic factors that influence how often people eat out and how much they're willing to spend, which in turn could affect ratings.\n",
    "\n",
    "Growth Trends: Identifying whether the average rating has been improving over time could point to a region that is experiencing growth and improvement in its restaurant industry, making it an attractive area for future investment and research.\n",
    "\n",
    "In conclusion, using the average restaurant rating as a rationale for selecting Arizona provides an opportunity to explore these different facets, contributing to a holistic understanding of the region's restaurant industry. It is important, however, to consider the average rating as one of many factors in selecting a region for analysis, and to also account for potential biases in the data as previously discussed."
   ]
  },
  {
   "cell_type": "markdown",
   "metadata": {
    "id": "ZHuxUVdMkHNk"
   },
   "source": [
    "Suitability for Business Questions:\n",
    "The data selected seems to be highly relevant for analyzing the restaurant industry in Arizona. It includes reviews, which can give insights into customer satisfaction, business data to assess market saturation and competition, and geographical distribution to understand regional market dynamics. This information can be used to answer business questions related to market entry, expansion, customer preference, and service quality.\n",
    "\n",
    "Appropriateness of Sample Size:\n",
    "The sample size appears to be substantial for a state-level analysis, particularly in urban areas like Tucson. With over 2,000 restaurants in Tucson alone, there is a rich dataset that should allow for robust statistical analysis. However, some smaller regions have very few restaurants, which might not be enough to draw reliable conclusions about those specific areas.\n",
    "\n",
    "Potential Data Biases:\n",
    "\n",
    "The data might be biased in several dimensions:\n",
    "\n",
    "Geographical Bias: Larger cities like Tucson have more restaurants and potentially more reviewers, which could skew perceptions of quality or standards.\n",
    "\n",
    "Selection Bias: If the dataset predominantly includes restaurants that are more likely to be reviewed on Yelp (e.g., mid to high-end restaurants), it may not represent the entire spectrum of the restaurant industry, such as fast food or smaller, local eateries.\n",
    "\n",
    "Rating Normalization: There could be inconsistencies in how ratings are given across different cities or types of restaurants. For instance, a '4-star' restaurant in one city might not equate to a '4-star' in another due to different customer expectations or cultural differences.\n",
    "\n",
    "Temporal Bias: The data doesn't account for the time when reviews were made. Changes over time, like new management or renovations, can significantly affect a restaurant's quality and customer satisfaction.\n",
    "\n",
    "Challenges in Data Processing:\n",
    "Cleaning and Normalization: Ensuring consistency in city names (e.g., 'Tucson' vs. 'TUCSON' vs. 'tucson') will be essential for accurate analysis.\n",
    "\n",
    "Handling Missing Data: Some entries might lack certain details like hours of operation or specific attributes, which could limit the depth of the analysis.\n",
    "Data Integration: If combining this dataset with other sources, aligning data formats and resolving discrepancies will be necessary.\n",
    "\n",
    "Text Analysis: Processing and analyzing textual reviews requires natural language processing (NLP) techniques, which can be complex and computationally intensive."
   ]
  },
  {
   "cell_type": "markdown",
   "metadata": {
    "id": "BrpXuIiX2aXy"
   },
   "source": [
    "# **Data Evaluation**\n",
    "\n",
    "- Purpose of the study:\n",
    "\n",
    "Consolidating reviews on AZ restaurants to rate aspects of a restaurant.\n",
    "Generating comments based on the consolidated review ratings.\n",
    "Establishing market trends based on customer data.\n",
    "The sufficiency of the data depends on several factors:\n",
    "\n",
    "Depth and Quality of Reviews: The number of restaurants (2,671 for AZ) may be adequate if there are enough reviews per restaurant to provide a diverse and representative sample of customer opinions. The key is not just how many restaurants are listed, but how many reviews each of those listings has. If there are only a few reviews per restaurant, the data may not be rich enough to accurately reflect customer preferences or to generate meaningful automated comments.\n",
    "Timeliness of Data: Customer preferences can change rapidly, and data can become outdated. Ensure that the reviews are relatively current to accurately capture the latest market trends.\n",
    "Statistical Relevance: For statistical analyses and machine learning, the number of data points (in this case, reviews) is crucial. Each additional review provides more information and helps to refine the accuracy of the analysis.\n",
    "Volume of Data for NLP Tasks: Natural Language Processing (NLP) tasks, such as generating comments automatically based on review sentiments, require a substantial amount of textual data to train models effectively.\n",
    "Overall Market Data: It's important to know what proportion of the total restaurant market in Arizona is covered by these 2,671 restaurants. If they represent a substantial portion of the market, the insights gained could be very valuable.\n",
    "Considering these factors, if each of the 2,671 restaurants has a significant number of reviews that are recent and cover a wide range of experiences, the dataset could be considered sufficient for the analysis purposes. However, if the reviews are sparse, outdated, or not representative, then additional data is needed to confidently establish market trends and generate automated comments."
   ]
  },
  {
   "cell_type": "markdown",
   "metadata": {
    "id": "NKMZWtiSvaWF"
   },
   "source": [
    "# **Preliminary Data Exploration**\n",
    "- topic1:Italian Cuisine Experience\n",
    "- topic2:Tucson Dining and Atmosphere\n",
    "- topic3:Service and Dining Out\n",
    "- topic4:Breakfast and Coffee Shops\n",
    "- topic5:Ambiance and Enjoyment\n",
    "- topic6:Japanese Food Dining Experience\n",
    "- topic7:Customer Service During COVID\n",
    "- topic8:Food Quality and Taste\n",
    "- topic9:Casual Dining Favorites\n",
    "## **Comment**\n",
    "\n",
    "Despite obtaining 10 categories, we believe that some may not have been trained sufficiently, which could be due to an inadequate number of training iterations. Additionally, we noticed a lack of categories related to negative reviews; most categories are about positive aspects such as good service attitude or the types of restaurants. Therefore, we think it would be beneficial to run a topic model using only 1-star reviews in the future to attempt to identify categories that reflect reasons for negative feedback."
   ]
  },
  {
   "cell_type": "code",
   "execution_count": 24,
   "metadata": {
    "colab": {
     "base_uri": "https://localhost:8080/"
    },
    "id": "qorLfvhcd_YL",
    "outputId": "05bfa69d-39cd-403f-8c15-8ed86edaf506"
   },
   "outputs": [
    {
     "name": "stderr",
     "output_type": "stream",
     "text": [
      "[nltk_data] Downloading package stopwords to /root/nltk_data...\n",
      "[nltk_data]   Unzipping corpora/stopwords.zip.\n",
      "[nltk_data] Downloading package punkt to /root/nltk_data...\n",
      "[nltk_data]   Package punkt is already up-to-date!\n",
      "[nltk_data] Downloading package wordnet to /root/nltk_data...\n",
      "<ipython-input-24-537ce651b7c7>:28: SettingWithCopyWarning: \n",
      "A value is trying to be set on a copy of a slice from a DataFrame.\n",
      "Try using .loc[row_indexer,col_indexer] = value instead\n",
      "\n",
      "See the caveats in the documentation: https://pandas.pydata.org/pandas-docs/stable/user_guide/indexing.html#returning-a-view-versus-a-copy\n",
      "  filtered_reviews_after_2019['preprocessed_text'] = filtered_reviews_after_2019['text'].apply(preprocess_text)\n"
     ]
    },
    {
     "name": "stdout",
     "output_type": "stream",
     "text": [
      "Topic 1:\n",
      "food time order service table minute get back would place\n",
      "Topic 2:\n",
      "pizza good chicken food salad place ordered like sauce great\n",
      "Topic 3:\n",
      "great food place service amazing always best friendly tucson love\n",
      "Topic 4:\n",
      "breakfast great good delicious place food coffee egg vegan option\n",
      "Topic 5:\n",
      "taco burger salsa burrito rib bean good cheese bbq fry\n"
     ]
    },
    {
     "name": "stderr",
     "output_type": "stream",
     "text": [
      "<ipython-input-24-537ce651b7c7>:51: SettingWithCopyWarning: \n",
      "A value is trying to be set on a copy of a slice from a DataFrame.\n",
      "Try using .loc[row_indexer,col_indexer] = value instead\n",
      "\n",
      "See the caveats in the documentation: https://pandas.pydata.org/pandas-docs/stable/user_guide/indexing.html#returning-a-view-versus-a-copy\n",
      "  filtered_reviews_after_2019['sentiment_score'] = filtered_reviews_after_2019['preprocessed_text'].apply(sentiment_analysis)\n"
     ]
    },
    {
     "name": "stdout",
     "output_type": "stream",
     "text": [
      "Sentiment score for Topic 1: 0.17583449126626313\n",
      "Sentiment score for Topic 2: 0.27322362490375146\n",
      "Sentiment score for Topic 3: 0.4860001372089366\n",
      "Sentiment score for Topic 4: 0.3920137580291884\n",
      "Sentiment score for Topic 5: 0.3478393509992641\n"
     ]
    }
   ],
   "source": [
    "import pandas as pd\n",
    "import numpy as np\n",
    "import nltk\n",
    "from nltk.corpus import stopwords\n",
    "from nltk.tokenize import word_tokenize\n",
    "from nltk.stem import WordNetLemmatizer\n",
    "from sklearn.feature_extraction.text import TfidfVectorizer\n",
    "from sklearn.decomposition import LatentDirichletAllocation\n",
    "from textblob import TextBlob\n",
    "\n",
    "nltk.download('stopwords')\n",
    "nltk.download('punkt')\n",
    "nltk.download('wordnet')\n",
    "\n",
    "def preprocess_text(text):\n",
    "\n",
    "    tokens = word_tokenize(text)\n",
    "\n",
    "    stop_words = set(stopwords.words('english'))\n",
    "    filtered_tokens = [word for word in tokens if word.lower() not in stop_words]\n",
    "\n",
    "    lemmatizer = WordNetLemmatizer()\n",
    "    lemmatized_tokens = [lemmatizer.lemmatize(word) for word in filtered_tokens]\n",
    "\n",
    "    preprocessed_text = ' '.join(lemmatized_tokens)\n",
    "    return preprocessed_text\n",
    "\n",
    "filtered_reviews_after_2019['preprocessed_text'] = filtered_reviews_after_2019['text'].apply(preprocess_text)\n",
    "\n",
    "vectorizer = TfidfVectorizer(max_df=0.8, min_df=5, max_features=1000)\n",
    "X = vectorizer.fit_transform(filtered_reviews_after_2019['preprocessed_text'])\n",
    "\n",
    "num_topics = 5\n",
    "lda = LatentDirichletAllocation(n_components=num_topics, max_iter=10, learning_method='online', random_state=42)\n",
    "lda.fit(X)\n",
    "\n",
    "def display_topics(model, feature_names, no_top_words):\n",
    "    for topic_idx, topic in enumerate(model.components_):\n",
    "        print(f\"Topic {topic_idx + 1}:\")\n",
    "        print(\" \".join([feature_names[i] for i in topic.argsort()[:-no_top_words - 1:-1]]))\n",
    "\n",
    "no_top_words = 10\n",
    "feature_names = vectorizer.get_feature_names_out()\n",
    "display_topics(lda, feature_names, no_top_words)\n",
    "\n",
    "def sentiment_analysis(text):\n",
    "    blob = TextBlob(text)\n",
    "    sentiment_score = blob.sentiment.polarity\n",
    "    return sentiment_score\n",
    "\n",
    "filtered_reviews_after_2019['sentiment_score'] = filtered_reviews_after_2019['preprocessed_text'].apply(sentiment_analysis)\n",
    "\n",
    "topic_sentiment_scores = []\n",
    "for index, topic in enumerate(lda.components_):\n",
    "    topic_reviews = filtered_reviews_after_2019.iloc[np.argmax(lda.transform(X), axis=1) == index]\n",
    "    mean_sentiment_score = topic_reviews['sentiment_score'].mean()\n",
    "    topic_sentiment_scores.append(mean_sentiment_score)\n",
    "\n",
    "for i, score in enumerate(topic_sentiment_scores):\n",
    "    print(f\"Sentiment score for Topic {i + 1}: {score}\")\n"
   ]
  },
  {
   "cell_type": "code",
   "execution_count": 25,
   "metadata": {
    "colab": {
     "base_uri": "https://localhost:8080/"
    },
    "id": "BLZ3A9DhoV1b",
    "outputId": "22c6be67-309e-444d-fab8-57aad9da252d"
   },
   "outputs": [
    {
     "name": "stderr",
     "output_type": "stream",
     "text": [
      "<ipython-input-25-2bd838e12327>:16: SettingWithCopyWarning: \n",
      "A value is trying to be set on a copy of a slice from a DataFrame.\n",
      "Try using .loc[row_indexer,col_indexer] = value instead\n",
      "\n",
      "See the caveats in the documentation: https://pandas.pydata.org/pandas-docs/stable/user_guide/indexing.html#returning-a-view-versus-a-copy\n",
      "  filtered_reviews_after_2019['topics'] = filtered_reviews_after_2019['preprocessed_text'].apply(identify_topics)\n",
      "<ipython-input-25-2bd838e12327>:21: SettingWithCopyWarning: \n",
      "A value is trying to be set on a copy of a slice from a DataFrame.\n",
      "Try using .loc[row_indexer,col_indexer] = value instead\n",
      "\n",
      "See the caveats in the documentation: https://pandas.pydata.org/pandas-docs/stable/user_guide/indexing.html#returning-a-view-versus-a-copy\n",
      "  topic_reviews.loc[:, 'sentiment_score'] = topic_reviews['preprocessed_text'].apply(sentiment_analysis)\n"
     ]
    },
    {
     "name": "stdout",
     "output_type": "stream",
     "text": [
      "Sentiment score for Service: 0.3017047106048867\n",
      "Sentiment score for Clean: 0.2519398670855401\n",
      "Sentiment score for Food_quality: 0.3062266347667108\n",
      "Sentiment score for Attitude: 0.29650827032182814\n",
      "Sentiment score for Speed: 0.2967650492475531\n"
     ]
    }
   ],
   "source": [
    "topic_keywords = {\n",
    "    'service': ['service', 'waiter', 'staff', 'attentive', 'slow', 'unresponsive', 'rude'],\n",
    "    'clean': ['clean', 'hygienic', 'sanitary', 'tidy', 'dirty', 'messy', 'unclean'],\n",
    "    'food_quality': ['food', 'quality', 'delicious', 'tasty', 'bad', 'poor', 'unappetizing'],\n",
    "    'attitude': ['attitude', 'friendly', 'polite', 'courteous','unfriendly', 'impolite', 'rude'],\n",
    "    'speed': ['speed', 'fast', 'quick', 'efficient', 'slow', 'delayed', 'tardy']\n",
    "}\n",
    "\n",
    "def identify_topics(text):\n",
    "    topics = []\n",
    "    for topic, keywords in topic_keywords.items():\n",
    "        if any(keyword in text for keyword in keywords):\n",
    "            topics.append(topic)\n",
    "    return topics\n",
    "\n",
    "filtered_reviews_after_2019['topics'] = filtered_reviews_after_2019['preprocessed_text'].apply(identify_topics)\n",
    "\n",
    "topic_sentiment_scores = {topic: [] for topic in topic_keywords.keys()}\n",
    "for topic in topic_keywords.keys():\n",
    "    topic_reviews = filtered_reviews_after_2019[filtered_reviews_after_2019['topics'].apply(lambda x: topic in x)]\n",
    "    topic_reviews.loc[:, 'sentiment_score'] = topic_reviews['preprocessed_text'].apply(sentiment_analysis)\n",
    "    # topic_reviews['sentiment_score'] = topic_reviews['preprocessed_text'].apply(sentiment_analysis)\n",
    "    mean_sentiment_score = topic_reviews['sentiment_score'].mean()\n",
    "    topic_sentiment_scores[topic].append(mean_sentiment_score)\n",
    "\n",
    "for topic, scores in topic_sentiment_scores.items():\n",
    "    print(f\"Sentiment score for {topic.capitalize()}: {scores[0]}\")\n"
   ]
  },
  {
   "cell_type": "code",
   "execution_count": 33,
   "metadata": {
    "colab": {
     "base_uri": "https://localhost:8080/"
    },
    "id": "eb6GeLCA2-Ry",
    "outputId": "26c81c5d-3b26-4044-cd17-9dfd0c544ec3"
   },
   "outputs": [
    {
     "name": "stdout",
     "output_type": "stream",
     "text": [
      "['Sher-e-Punjab' 'Taqueria Pico De Gallo' 'Persian Room Fine Dining'\n",
      " 'Prep & Pastry' 'Barrio Brewing' \"AJ's Fine Foods\" 'Kung Fu Noodle'\n",
      " \"Ghini's French Caffe\" 'Casino Del Sol' 'BK Tacos' 'Aqui Con El Nene'\n",
      " 'Maynards' 'Street- Taco and Beer Co.' 'El Merendero' \"Caruso's\" 'Penca'\n",
      " 'Trident Grill' 'Fiamme Pizza' 'Le Rendez-vous' 'El Charro Cafe'\n",
      " \"St Mary's Mexican Food\" 'Fresco Pizzeria' \"Blake's Lotaburger\"\n",
      " 'Raijin Ramen' 'Village Bakehouse' 'Postino Grant' 'No Anchovies'\n",
      " 'Charro Steak & Del Rey' 'Ba-Dar' 'Falora' \"D's Island Grill JA\"\n",
      " 'La Hacienda Restaurant' 'The Parish' 'Tumerico' 'First Watch'\n",
      " 'Pastiche Modern Eatery' 'Hotel Congress'\n",
      " 'El Conquistador Tucson, A Hilton Resort' 'El Sur Restaurant'\n",
      " 'Welcome Diner' 'Kababeque Indian Grill' '4 Seasons'\n",
      " 'Contigo Latin Kitchen' \"Taqueria Juanito's\" 'La Indita' 'Sushi Garden'\n",
      " \"Mr. An's Teppan Steak & Seafood Sushi Bar\" 'Takamatsu' 'Ikkyu'\n",
      " 'Epic Cafe' 'Locale Neighborhood Italian' 'LongHorn Steakhouse'\n",
      " \"Opa's Best Greek American Cuisine\" 'Caffe Torino' 'Baja Cafe On Ina'\n",
      " 'Barista Del Barrio' 'Harvest Oro Valley' 'Kens Hardwood Barbecue'\n",
      " 'Kingfisher Bar & Grill' 'Crave Coffee Bar' 'Miss Saigon'\n",
      " 'Agustin Kitchen' \"Cheddar's Scratch Kitchen\" 'Wildflower'\n",
      " 'Polish Cottage' 'Bread & Butter Cafe' 'Guadalajara Original Grill'\n",
      " 'GMG Chinese Bistro' 'El Minuto Cafe' \"Oregano's\" 'American Eat Company'\n",
      " 'Tanias 33 Mexican Food' 'Serial Grillers' 'Caffe Luce'\n",
      " \"Rocco's Little Chicago\" 'Pizza Luna' 'Ha Long Bay'\n",
      " '5 Points Market & Restaurant' 'Native Grill & Wings' 'BrushFire BBQ'\n",
      " 'Cafe Passe' 'El Taco Tote' 'Casa Molina' 'Pinnacle Peak'\n",
      " 'Mantis Gourmet Chinese Food' 'Sauce Pizza & Wine' 'Seis Kitchen'\n",
      " 'Salsa Verde Restaurant' 'China Pasta House' \"Grumpy's Grill\"\n",
      " 'Truland Burgers & Greens' 'Fleming’s Prime Steakhouse & Wine Bar'\n",
      " \"Sullivan's Steakhouse\" 'Bisbee Breakfast Club' 'Wild Garlic Grill'\n",
      " \"Lovin' Spoonfuls Vegan Restaurant\" 'Sushi Cortaro' \"P.F. Chang's\"\n",
      " 'Reforma Modern Mexican Mezcal + Tequila' 'Holy Smokin Butts BBQ'\n",
      " 'Shish Kebab House of Tucson' 'HI FI Kitchen & Cocktails' 'Baja Cafe'\n",
      " \"Illegal Pete's - Tucson\" 'Kon Tiki Restaurant & Lounge'\n",
      " \"Rosa's Mexican Food Restaurant\" 'Omni Tucson National Resort'\n",
      " 'Cafe A La Cart' 'GRINGO grill + cantina' 'The Quesadillas' \"Goyita's\"\n",
      " 'Papa Locos Tacos and Burgers' 'Beyond Bread'\n",
      " 'Guadalajara Grill - Mexican, Best Mexican Restaurant in Tucson'\n",
      " 'Cracker Barrel Old Country Store'\n",
      " 'Shogun Japanese Restaurant & Sushi Bar'\n",
      " 'Blue Willow Restaurant & Gift Shop' 'HiFalutin Rapid Western Grill'\n",
      " 'Zinburger' 'Hotrods Old Vail' 'Cup Cafe' 'Just Kabab' \"Dante's Fire\"\n",
      " 'Nook' 'Lee Lee International Supermarkets'\n",
      " 'Jun Dynasty Chinese Restaurant' 'Piazza Gavi' 'Time Market'\n",
      " 'Firebirds Wood Fired Grill' \"Nana's Kitchen\" 'Choice Greens'\n",
      " 'Sausage Shop Meat Market and Deli' \"Zemam's\" 'Tito & Pep'\n",
      " 'Blanco Tacos + Tequila' 'Zona 78' 'China Szechwan'\n",
      " 'Boca Tacos Y Tequila' 'Sakura' 'RA Sushi Bar Restaurant'\n",
      " 'Nadines Bakery' 'Rancho Rustico Restaurant' \"Little Anthony's Diner\"\n",
      " 'Two Girls Pizzeria' 'Westward Look Wyndham Grand Resort and Spa'\n",
      " 'The Oink Cafe - Tucson' 'Zayna Mediterranean' 'Ginza Sushi' 'Old Peking'\n",
      " 'Eclectic Cafe' 'Sawmill Run Restaurant' \"Fini's Landing\"\n",
      " \"Bianchi's Italian\" 'LaCo' 'Indian Twist' 'Wok & Roll'\n",
      " 'The Keg Steakhouse and Bar - Oro Valley' 'Kazoku' 'Smokey Mo'\n",
      " \"Dave & Buster's\" 'HUB Restaurant & Ice Creamery' 'Mariscos Chihuahua'\n",
      " 'La Parrilla Suiza' '47 Scott' 'Bear Canyon Pizza' \"Bubb's Grub\"\n",
      " 'Teaspoon' 'Black Bear Diner' 'Bison Witches Bar & Deli'\n",
      " \"Omar's Hi-Way Chef Restaurant\" 'Texas Roadhouse' 'Trident Grill II'\n",
      " 'Ermanos Craft Beer & Wine Bar' \"Jerry Bob's Restaurant\"\n",
      " 'Divine Bovine Burgers' \"Sullivan's Eatery and Creamery\" 'Topgolf'\n",
      " 'Azian Restaurant Sushi & Korean BBQ' 'Saffron Indian Bistro'\n",
      " 'Frog & Firkin' \"Frank's\" 'Tamarind' 'Silver Saddle Steakhouse'\n",
      " 'Tavolino Ristorante Italiano' 'Yoshimatsu Japanese Eatery'\n",
      " 'Wings & Rice' 'The Grill at Hacienda Del Sol' 'El Guero Canelo'\n",
      " 'RoadHouse Cinemas' 'Reilly Craft Pizza & Drink' 'Vero Amore - Dove'\n",
      " \"Scordato's Pizzeria\" 'The Dutch Eatery & Refuge' 'New Delhi Palace'\n",
      " 'Com Tam Thuan Kieu' 'Empire Pizza & Pub' \"Elliott's On Congress\"\n",
      " \"Renee's Tucson\" 'Cartel Roasting' \"The Canyon's Crown\"\n",
      " 'Snooze An AM Eatery' 'NYPD New York Pizza Department'\n",
      " 'La Olla Mexican Cafe' 'Sunny Daze Cafe' 'Prep & Pastry on Grant'\n",
      " \"Brother John's Beer Bourbon & BBQ\" 'El Corral' 'Calle Tepa'\n",
      " 'Saing Thai Cuisine' 'Bottega Michelangelo' \"Mama Louisa's\"\n",
      " 'Taqueria El Pueblito' 'Sachiko Sushi' 'Pita Jungle' 'Cafe Desta'\n",
      " \"Robert's Restaurant\" 'Buffalo Wild Wings' \"Teresa's Mosaic Cafe\"\n",
      " 'Sushi Valley' 'Thunder Canyon Brewery' 'Yard House'\n",
      " \"Le Cave's Bakery & Donuts\" 'Vero Amore - Swan' 'Brothers Noodles'\n",
      " 'Churrasco de Brasil' 'The Drunken Chicken' 'Noble Hops Gastropub'\n",
      " 'Kimchi Time' 'Noodleholics' 'Graze Premium Burgers'\n",
      " 'Goodness Fresh Food and Juice Bar' 'Commoner & Co.'\n",
      " \"Luckie's Thai-Asian Cuisine\" 'Asian Spice' 'Bangkok Cafe'\n",
      " 'Magpies Gourmet Pizza' \"Bobo's Restaurant\" 'El Berraco' 'Greek House'\n",
      " 'Vivace' \"Dominick's Real Italian\" 'Roma Imports'\n",
      " 'Saguaro Corners Restaurant & Bar' 'The Horseshoe Grill' 'Feast'\n",
      " \"Char's Thai\" \"Dao's Tai Pan's\" \"BJ's Restaurant & Brewhouse\"\n",
      " \"Guiseppe's\" 'La Botana Tacos' \"Lil Abner's Steakhouse\" 'Fuku Sushi'\n",
      " 'CharroVida' 'Union Public House' 'Sushi On Oracle'\n",
      " 'Mi Nidito Restaurant' 'Zpizza - Oro Valley' 'Tacos Apson'\n",
      " 'Baja Cafe on Campbell' \"Lindy's On 4th\" 'Lodge On The Desert'\n",
      " \"Mama's Hawaiian Bar-B-Cue\" 'Exo Roast Co' 'Angry Crab Shack & BBQ'\n",
      " '1702' 'Gentle Ben’s Brewery' 'Loews Ventana Canyon Resort'\n",
      " 'Thai China Bistro' 'Barrio Bread' 'Culinary Dropout' 'Golden House'\n",
      " 'OBON Sushi Bar Ramen' \"Pappoule's\" 'The Little One' 'Monkey Burger'\n",
      " \"Daisy Mae's Steakhouse\" 'Poco & Moms' 'Rollies Mexican Patio' 'Le Buzz'\n",
      " 'The Cheesecake Factory'\n",
      " 'Guadalajara Grill - Fiesta, Best Mexican Restaurant in Tucson'\n",
      " 'North Italia' 'Gourmet Girls' 'Pub 1922' 'Brooklyn Pizza Company'\n",
      " \"Chef Alisah's\" 'Sushi-Ten' \"Inca's Peruvian Cuisine\" 'Raging Sage']\n"
     ]
    }
   ],
   "source": [
    "\n",
    "unique_business_ids_in_reviews = filtered_reviews_after_2019['business_id'].unique()\n",
    "\n",
    "matched_businesses = df_restaurants_az[df_restaurants_az['business_id'].isin(unique_business_ids_in_reviews)]\n",
    "\n",
    "matched_restaurant_names = matched_businesses['name'].unique()\n",
    "\n",
    "print(matched_restaurant_names)\n"
   ]
  },
  {
   "cell_type": "code",
   "execution_count": 34,
   "metadata": {
    "colab": {
     "base_uri": "https://localhost:8080/"
    },
    "id": "P5ZptjCkxcXz",
    "outputId": "99d91775-f2e5-47f6-c0a6-90be30e5244c"
   },
   "outputs": [
    {
     "name": "stderr",
     "output_type": "stream",
     "text": [
      "<ipython-input-34-de35a3c718d6>:14: SettingWithCopyWarning: \n",
      "A value is trying to be set on a copy of a slice from a DataFrame.\n",
      "Try using .loc[row_indexer,col_indexer] = value instead\n",
      "\n",
      "See the caveats in the documentation: https://pandas.pydata.org/pandas-docs/stable/user_guide/indexing.html#returning-a-view-versus-a-copy\n",
      "  business_reviews['topics'] = business_reviews['text'].apply(identify_topics)\n",
      "<ipython-input-34-de35a3c718d6>:30: SettingWithCopyWarning: \n",
      "A value is trying to be set on a copy of a slice from a DataFrame.\n",
      "Try using .loc[row_indexer,col_indexer] = value instead\n",
      "\n",
      "See the caveats in the documentation: https://pandas.pydata.org/pandas-docs/stable/user_guide/indexing.html#returning-a-view-versus-a-copy\n",
      "  topic_reviews['sentiment_score'] = topic_reviews['text'].apply(sentiment_analysis)\n"
     ]
    },
    {
     "name": "stdout",
     "output_type": "stream",
     "text": [
      "Sentiment score for Service: 0.25242813099510714\n",
      "Sentiment score for Clean: 0.3224231076728023\n",
      "Sentiment score for Food_quality: 0.2956334212593125\n",
      "Sentiment score for Attitude: 0.3307114765167133\n",
      "Sentiment score for Speed: 0.2810509418996228\n"
     ]
    }
   ],
   "source": [
    "def calculate_sentiment_scores(business_name, df_businesses, df_reviews):\n",
    "    # Find the business_id for the given business_name\n",
    "    business_id = df_restaurants_az[df_restaurants_az['name'] == business_name]['business_id'].iloc[0]\n",
    "\n",
    "    # Filter reviews for the business_id\n",
    "    business_reviews = filtered_reviews_after_2019[filtered_reviews_after_2019['business_id'] == business_id]\n",
    "\n",
    "    # Check if there are any reviews for the business\n",
    "    if business_reviews.empty:\n",
    "        print(f\"No reviews found for {business_name}.\")\n",
    "        return\n",
    "\n",
    "    # Apply topic identification\n",
    "    business_reviews['topics'] = business_reviews['text'].apply(identify_topics)\n",
    "\n",
    "    # Initialize a dictionary to hold sentiment scores\n",
    "    topic_sentiment_scores = {topic: [] for topic in topic_keywords.keys()}\n",
    "\n",
    "    # Calculate sentiment scores for each topic\n",
    "    for topic in topic_keywords.keys():\n",
    "        # Filter reviews that mention the topic\n",
    "        topic_reviews = business_reviews[business_reviews['topics'].apply(lambda x: topic in x)]\n",
    "\n",
    "        # If there are no reviews for this topic, skip to the next one\n",
    "        if topic_reviews.empty:\n",
    "            print(f\"No reviews for the topic '{topic}' for {business_name}.\")\n",
    "            continue\n",
    "\n",
    "        # Calculate sentiment scores for the filtered reviews\n",
    "        topic_reviews['sentiment_score'] = topic_reviews['text'].apply(sentiment_analysis)\n",
    "        mean_sentiment_score = topic_reviews['sentiment_score'].mean()\n",
    "        topic_sentiment_scores[topic].append(mean_sentiment_score)\n",
    "\n",
    "    # Print sentiment scores\n",
    "    for topic, scores in topic_sentiment_scores.items():\n",
    "        if scores:  # Check if the list is not empty\n",
    "            print(f\"Sentiment score for {topic.capitalize()}: {scores[0]}\")\n",
    "        else:\n",
    "            print(f\"No sentiment score for {topic.capitalize()} due to no relevant reviews.\")\n",
    "\n",
    "# Example usage:df_restaurants_az\n",
    "calculate_sentiment_scores(\"Sher-e-Punjab\", df_restaurants_az, filtered_reviews_after_2019)\n"
   ]
  },
  {
   "cell_type": "markdown",
   "metadata": {
    "id": "g9kva_dq2oHR"
   },
   "source": [
    "# **Proposed Solution**\n",
    "\n",
    "For our project, we plan to employ a combination of machine learning and unstructured data analytics methods to address our current challenges in evaluating restaurant reviews across multiple dimensions, such as cleanliness, service quality, taste of food, speed of service, pricing, and ambiance. The proposed solution includes:\n",
    "\n",
    "**Topic Modeling**: Utilize Latent Dirichlet Allocation (LDA) to identify themes across reviews, which will help us categorize feedback into distinct aspects of restaurant operations.\n",
    "\n",
    "**Sentiment Analysi**s: Apply sentiment analysis algorithms to assess the tone (positive, negative, neutral) of reviews related to identified topics. This will enable us to quantify perceptions of each restaurant aspect.\n",
    "\n",
    "**Natural Language Processing (NLP)**: Implement NLP techniques to extract and analyze key phrases and sentiments from unstructured text data. This will aid in understanding specific customer feedback on each identified topic.\n",
    "\n",
    "**Supervised Machine Learning**: Develop predictive models using supervised learning techniques to rate each aspect of a restaurant based on review text. This could involve regression analysis or classification models to predict aspect scores."
   ]
  },
  {
   "cell_type": "code",
   "execution_count": null,
   "metadata": {
    "colab": {
     "base_uri": "https://localhost:8080/"
    },
    "id": "DRqklwJVpl-G",
    "outputId": "760059a8-f9ab-4987-999c-608bbb1cc090"
   },
   "outputs": [
    {
     "name": "stdout",
     "output_type": "stream",
     "text": [
      "Requirement already satisfied: jupyter in /usr/local/lib/python3.10/dist-packages (1.0.0)\n",
      "Requirement already satisfied: notebook in /usr/local/lib/python3.10/dist-packages (from jupyter) (6.5.5)\n",
      "Requirement already satisfied: qtconsole in /usr/local/lib/python3.10/dist-packages (from jupyter) (5.5.1)\n",
      "Requirement already satisfied: jupyter-console in /usr/local/lib/python3.10/dist-packages (from jupyter) (6.1.0)\n",
      "Requirement already satisfied: nbconvert in /usr/local/lib/python3.10/dist-packages (from jupyter) (6.5.4)\n",
      "Requirement already satisfied: ipykernel in /usr/local/lib/python3.10/dist-packages (from jupyter) (5.5.6)\n",
      "Requirement already satisfied: ipywidgets in /usr/local/lib/python3.10/dist-packages (from jupyter) (7.7.1)\n",
      "Requirement already satisfied: ipython-genutils in /usr/local/lib/python3.10/dist-packages (from ipykernel->jupyter) (0.2.0)\n",
      "Requirement already satisfied: ipython>=5.0.0 in /usr/local/lib/python3.10/dist-packages (from ipykernel->jupyter) (7.34.0)\n",
      "Requirement already satisfied: traitlets>=4.1.0 in /usr/local/lib/python3.10/dist-packages (from ipykernel->jupyter) (5.7.1)\n",
      "Requirement already satisfied: jupyter-client in /usr/local/lib/python3.10/dist-packages (from ipykernel->jupyter) (6.1.12)\n",
      "Requirement already satisfied: tornado>=4.2 in /usr/local/lib/python3.10/dist-packages (from ipykernel->jupyter) (6.3.2)\n",
      "Requirement already satisfied: widgetsnbextension~=3.6.0 in /usr/local/lib/python3.10/dist-packages (from ipywidgets->jupyter) (3.6.6)\n",
      "Requirement already satisfied: jupyterlab-widgets>=1.0.0 in /usr/local/lib/python3.10/dist-packages (from ipywidgets->jupyter) (3.0.9)\n",
      "Requirement already satisfied: prompt-toolkit!=3.0.0,!=3.0.1,<3.1.0,>=2.0.0 in /usr/local/lib/python3.10/dist-packages (from jupyter-console->jupyter) (3.0.43)\n",
      "Requirement already satisfied: pygments in /usr/local/lib/python3.10/dist-packages (from jupyter-console->jupyter) (2.16.1)\n",
      "Requirement already satisfied: lxml in /usr/local/lib/python3.10/dist-packages (from nbconvert->jupyter) (4.9.4)\n",
      "Requirement already satisfied: beautifulsoup4 in /usr/local/lib/python3.10/dist-packages (from nbconvert->jupyter) (4.12.3)\n",
      "Requirement already satisfied: bleach in /usr/local/lib/python3.10/dist-packages (from nbconvert->jupyter) (6.1.0)\n",
      "Requirement already satisfied: defusedxml in /usr/local/lib/python3.10/dist-packages (from nbconvert->jupyter) (0.7.1)\n",
      "Requirement already satisfied: entrypoints>=0.2.2 in /usr/local/lib/python3.10/dist-packages (from nbconvert->jupyter) (0.4)\n",
      "Requirement already satisfied: jinja2>=3.0 in /usr/local/lib/python3.10/dist-packages (from nbconvert->jupyter) (3.1.3)\n",
      "Requirement already satisfied: jupyter-core>=4.7 in /usr/local/lib/python3.10/dist-packages (from nbconvert->jupyter) (5.7.1)\n",
      "Requirement already satisfied: jupyterlab-pygments in /usr/local/lib/python3.10/dist-packages (from nbconvert->jupyter) (0.3.0)\n",
      "Requirement already satisfied: MarkupSafe>=2.0 in /usr/local/lib/python3.10/dist-packages (from nbconvert->jupyter) (2.1.4)\n",
      "Requirement already satisfied: mistune<2,>=0.8.1 in /usr/local/lib/python3.10/dist-packages (from nbconvert->jupyter) (0.8.4)\n",
      "Requirement already satisfied: nbclient>=0.5.0 in /usr/local/lib/python3.10/dist-packages (from nbconvert->jupyter) (0.9.0)\n",
      "Requirement already satisfied: nbformat>=5.1 in /usr/local/lib/python3.10/dist-packages (from nbconvert->jupyter) (5.9.2)\n",
      "Requirement already satisfied: packaging in /usr/local/lib/python3.10/dist-packages (from nbconvert->jupyter) (23.2)\n",
      "Requirement already satisfied: pandocfilters>=1.4.1 in /usr/local/lib/python3.10/dist-packages (from nbconvert->jupyter) (1.5.1)\n",
      "Requirement already satisfied: tinycss2 in /usr/local/lib/python3.10/dist-packages (from nbconvert->jupyter) (1.2.1)\n",
      "Requirement already satisfied: pyzmq<25,>=17 in /usr/local/lib/python3.10/dist-packages (from notebook->jupyter) (23.2.1)\n",
      "Requirement already satisfied: argon2-cffi in /usr/local/lib/python3.10/dist-packages (from notebook->jupyter) (23.1.0)\n",
      "Requirement already satisfied: nest-asyncio>=1.5 in /usr/local/lib/python3.10/dist-packages (from notebook->jupyter) (1.6.0)\n",
      "Requirement already satisfied: Send2Trash>=1.8.0 in /usr/local/lib/python3.10/dist-packages (from notebook->jupyter) (1.8.2)\n",
      "Requirement already satisfied: terminado>=0.8.3 in /usr/local/lib/python3.10/dist-packages (from notebook->jupyter) (0.18.0)\n",
      "Requirement already satisfied: prometheus-client in /usr/local/lib/python3.10/dist-packages (from notebook->jupyter) (0.19.0)\n",
      "Requirement already satisfied: nbclassic>=0.4.7 in /usr/local/lib/python3.10/dist-packages (from notebook->jupyter) (1.0.0)\n",
      "Requirement already satisfied: qtpy>=2.4.0 in /usr/local/lib/python3.10/dist-packages (from qtconsole->jupyter) (2.4.1)\n",
      "Requirement already satisfied: setuptools>=18.5 in /usr/local/lib/python3.10/dist-packages (from ipython>=5.0.0->ipykernel->jupyter) (67.7.2)\n",
      "Requirement already satisfied: jedi>=0.16 in /usr/local/lib/python3.10/dist-packages (from ipython>=5.0.0->ipykernel->jupyter) (0.19.1)\n",
      "Requirement already satisfied: decorator in /usr/local/lib/python3.10/dist-packages (from ipython>=5.0.0->ipykernel->jupyter) (4.4.2)\n",
      "Requirement already satisfied: pickleshare in /usr/local/lib/python3.10/dist-packages (from ipython>=5.0.0->ipykernel->jupyter) (0.7.5)\n",
      "Requirement already satisfied: backcall in /usr/local/lib/python3.10/dist-packages (from ipython>=5.0.0->ipykernel->jupyter) (0.2.0)\n",
      "Requirement already satisfied: matplotlib-inline in /usr/local/lib/python3.10/dist-packages (from ipython>=5.0.0->ipykernel->jupyter) (0.1.6)\n",
      "Requirement already satisfied: pexpect>4.3 in /usr/local/lib/python3.10/dist-packages (from ipython>=5.0.0->ipykernel->jupyter) (4.9.0)\n",
      "Requirement already satisfied: python-dateutil>=2.1 in /usr/local/lib/python3.10/dist-packages (from jupyter-client->ipykernel->jupyter) (2.8.2)\n",
      "Requirement already satisfied: platformdirs>=2.5 in /usr/local/lib/python3.10/dist-packages (from jupyter-core>=4.7->nbconvert->jupyter) (4.2.0)\n",
      "Requirement already satisfied: jupyter-server>=1.8 in /usr/local/lib/python3.10/dist-packages (from nbclassic>=0.4.7->notebook->jupyter) (1.24.0)\n",
      "Requirement already satisfied: notebook-shim>=0.2.3 in /usr/local/lib/python3.10/dist-packages (from nbclassic>=0.4.7->notebook->jupyter) (0.2.3)\n",
      "Requirement already satisfied: fastjsonschema in /usr/local/lib/python3.10/dist-packages (from nbformat>=5.1->nbconvert->jupyter) (2.19.1)\n",
      "Requirement already satisfied: jsonschema>=2.6 in /usr/local/lib/python3.10/dist-packages (from nbformat>=5.1->nbconvert->jupyter) (4.19.2)\n",
      "Requirement already satisfied: wcwidth in /usr/local/lib/python3.10/dist-packages (from prompt-toolkit!=3.0.0,!=3.0.1,<3.1.0,>=2.0.0->jupyter-console->jupyter) (0.2.13)\n",
      "Requirement already satisfied: ptyprocess in /usr/local/lib/python3.10/dist-packages (from terminado>=0.8.3->notebook->jupyter) (0.7.0)\n",
      "Requirement already satisfied: argon2-cffi-bindings in /usr/local/lib/python3.10/dist-packages (from argon2-cffi->notebook->jupyter) (21.2.0)\n",
      "Requirement already satisfied: soupsieve>1.2 in /usr/local/lib/python3.10/dist-packages (from beautifulsoup4->nbconvert->jupyter) (2.5)\n",
      "Requirement already satisfied: six>=1.9.0 in /usr/local/lib/python3.10/dist-packages (from bleach->nbconvert->jupyter) (1.16.0)\n",
      "Requirement already satisfied: webencodings in /usr/local/lib/python3.10/dist-packages (from bleach->nbconvert->jupyter) (0.5.1)\n",
      "Requirement already satisfied: parso<0.9.0,>=0.8.3 in /usr/local/lib/python3.10/dist-packages (from jedi>=0.16->ipython>=5.0.0->ipykernel->jupyter) (0.8.3)\n",
      "Requirement already satisfied: attrs>=22.2.0 in /usr/local/lib/python3.10/dist-packages (from jsonschema>=2.6->nbformat>=5.1->nbconvert->jupyter) (23.2.0)\n",
      "Requirement already satisfied: jsonschema-specifications>=2023.03.6 in /usr/local/lib/python3.10/dist-packages (from jsonschema>=2.6->nbformat>=5.1->nbconvert->jupyter) (2023.12.1)\n",
      "Requirement already satisfied: referencing>=0.28.4 in /usr/local/lib/python3.10/dist-packages (from jsonschema>=2.6->nbformat>=5.1->nbconvert->jupyter) (0.33.0)\n",
      "Requirement already satisfied: rpds-py>=0.7.1 in /usr/local/lib/python3.10/dist-packages (from jsonschema>=2.6->nbformat>=5.1->nbconvert->jupyter) (0.17.1)\n",
      "Requirement already satisfied: anyio<4,>=3.1.0 in /usr/local/lib/python3.10/dist-packages (from jupyter-server>=1.8->nbclassic>=0.4.7->notebook->jupyter) (3.7.1)\n",
      "Requirement already satisfied: websocket-client in /usr/local/lib/python3.10/dist-packages (from jupyter-server>=1.8->nbclassic>=0.4.7->notebook->jupyter) (1.7.0)\n",
      "Requirement already satisfied: cffi>=1.0.1 in /usr/local/lib/python3.10/dist-packages (from argon2-cffi-bindings->argon2-cffi->notebook->jupyter) (1.16.0)\n",
      "Requirement already satisfied: idna>=2.8 in /usr/local/lib/python3.10/dist-packages (from anyio<4,>=3.1.0->jupyter-server>=1.8->nbclassic>=0.4.7->notebook->jupyter) (3.6)\n",
      "Requirement already satisfied: sniffio>=1.1 in /usr/local/lib/python3.10/dist-packages (from anyio<4,>=3.1.0->jupyter-server>=1.8->nbclassic>=0.4.7->notebook->jupyter) (1.3.0)\n",
      "Requirement already satisfied: exceptiongroup in /usr/local/lib/python3.10/dist-packages (from anyio<4,>=3.1.0->jupyter-server>=1.8->nbclassic>=0.4.7->notebook->jupyter) (1.2.0)\n",
      "Requirement already satisfied: pycparser in /usr/local/lib/python3.10/dist-packages (from cffi>=1.0.1->argon2-cffi-bindings->argon2-cffi->notebook->jupyter) (2.21)\n",
      "Requirement already satisfied: nbconvert in /usr/local/lib/python3.10/dist-packages (6.5.4)\n",
      "Requirement already satisfied: lxml in /usr/local/lib/python3.10/dist-packages (from nbconvert) (4.9.4)\n",
      "Requirement already satisfied: beautifulsoup4 in /usr/local/lib/python3.10/dist-packages (from nbconvert) (4.12.3)\n",
      "Requirement already satisfied: bleach in /usr/local/lib/python3.10/dist-packages (from nbconvert) (6.1.0)\n",
      "Requirement already satisfied: defusedxml in /usr/local/lib/python3.10/dist-packages (from nbconvert) (0.7.1)\n",
      "Requirement already satisfied: entrypoints>=0.2.2 in /usr/local/lib/python3.10/dist-packages (from nbconvert) (0.4)\n",
      "Requirement already satisfied: jinja2>=3.0 in /usr/local/lib/python3.10/dist-packages (from nbconvert) (3.1.3)\n",
      "Requirement already satisfied: jupyter-core>=4.7 in /usr/local/lib/python3.10/dist-packages (from nbconvert) (5.7.1)\n",
      "Requirement already satisfied: jupyterlab-pygments in /usr/local/lib/python3.10/dist-packages (from nbconvert) (0.3.0)\n",
      "Requirement already satisfied: MarkupSafe>=2.0 in /usr/local/lib/python3.10/dist-packages (from nbconvert) (2.1.4)\n",
      "Requirement already satisfied: mistune<2,>=0.8.1 in /usr/local/lib/python3.10/dist-packages (from nbconvert) (0.8.4)\n",
      "Requirement already satisfied: nbclient>=0.5.0 in /usr/local/lib/python3.10/dist-packages (from nbconvert) (0.9.0)\n",
      "Requirement already satisfied: nbformat>=5.1 in /usr/local/lib/python3.10/dist-packages (from nbconvert) (5.9.2)\n",
      "Requirement already satisfied: packaging in /usr/local/lib/python3.10/dist-packages (from nbconvert) (23.2)\n",
      "Requirement already satisfied: pandocfilters>=1.4.1 in /usr/local/lib/python3.10/dist-packages (from nbconvert) (1.5.1)\n",
      "Requirement already satisfied: pygments>=2.4.1 in /usr/local/lib/python3.10/dist-packages (from nbconvert) (2.16.1)\n",
      "Requirement already satisfied: tinycss2 in /usr/local/lib/python3.10/dist-packages (from nbconvert) (1.2.1)\n",
      "Requirement already satisfied: traitlets>=5.0 in /usr/local/lib/python3.10/dist-packages (from nbconvert) (5.7.1)\n",
      "Requirement already satisfied: platformdirs>=2.5 in /usr/local/lib/python3.10/dist-packages (from jupyter-core>=4.7->nbconvert) (4.2.0)\n",
      "Requirement already satisfied: jupyter-client>=6.1.12 in /usr/local/lib/python3.10/dist-packages (from nbclient>=0.5.0->nbconvert) (6.1.12)\n",
      "Requirement already satisfied: fastjsonschema in /usr/local/lib/python3.10/dist-packages (from nbformat>=5.1->nbconvert) (2.19.1)\n",
      "Requirement already satisfied: jsonschema>=2.6 in /usr/local/lib/python3.10/dist-packages (from nbformat>=5.1->nbconvert) (4.19.2)\n",
      "Requirement already satisfied: soupsieve>1.2 in /usr/local/lib/python3.10/dist-packages (from beautifulsoup4->nbconvert) (2.5)\n",
      "Requirement already satisfied: six>=1.9.0 in /usr/local/lib/python3.10/dist-packages (from bleach->nbconvert) (1.16.0)\n",
      "Requirement already satisfied: webencodings in /usr/local/lib/python3.10/dist-packages (from bleach->nbconvert) (0.5.1)\n",
      "Requirement already satisfied: attrs>=22.2.0 in /usr/local/lib/python3.10/dist-packages (from jsonschema>=2.6->nbformat>=5.1->nbconvert) (23.2.0)\n",
      "Requirement already satisfied: jsonschema-specifications>=2023.03.6 in /usr/local/lib/python3.10/dist-packages (from jsonschema>=2.6->nbformat>=5.1->nbconvert) (2023.12.1)\n",
      "Requirement already satisfied: referencing>=0.28.4 in /usr/local/lib/python3.10/dist-packages (from jsonschema>=2.6->nbformat>=5.1->nbconvert) (0.33.0)\n",
      "Requirement already satisfied: rpds-py>=0.7.1 in /usr/local/lib/python3.10/dist-packages (from jsonschema>=2.6->nbformat>=5.1->nbconvert) (0.17.1)\n",
      "Requirement already satisfied: pyzmq>=13 in /usr/local/lib/python3.10/dist-packages (from jupyter-client>=6.1.12->nbclient>=0.5.0->nbconvert) (23.2.1)\n",
      "Requirement already satisfied: python-dateutil>=2.1 in /usr/local/lib/python3.10/dist-packages (from jupyter-client>=6.1.12->nbclient>=0.5.0->nbconvert) (2.8.2)\n",
      "Requirement already satisfied: tornado>=4.1 in /usr/local/lib/python3.10/dist-packages (from jupyter-client>=6.1.12->nbclient>=0.5.0->nbconvert) (6.3.2)\n",
      "[NbConvertApp] WARNING | pattern '/content/drive/MyDrive/ProjectEDA_Finovators.ipynb' matched no files\n",
      "This application is used to convert notebook files (*.ipynb)\n",
      "        to various other formats.\n",
      "\n",
      "        WARNING: THE COMMANDLINE INTERFACE MAY CHANGE IN FUTURE RELEASES.\n",
      "\n",
      "Options\n",
      "=======\n",
      "The options below are convenience aliases to configurable class-options,\n",
      "as listed in the \"Equivalent to\" description-line of the aliases.\n",
      "To see all configurable class-options for some <cmd>, use:\n",
      "    <cmd> --help-all\n",
      "\n",
      "--debug\n",
      "    set log level to logging.DEBUG (maximize logging output)\n",
      "    Equivalent to: [--Application.log_level=10]\n",
      "--show-config\n",
      "    Show the application's configuration (human-readable format)\n",
      "    Equivalent to: [--Application.show_config=True]\n",
      "--show-config-json\n",
      "    Show the application's configuration (json format)\n",
      "    Equivalent to: [--Application.show_config_json=True]\n",
      "--generate-config\n",
      "    generate default config file\n",
      "    Equivalent to: [--JupyterApp.generate_config=True]\n",
      "-y\n",
      "    Answer yes to any questions instead of prompting.\n",
      "    Equivalent to: [--JupyterApp.answer_yes=True]\n",
      "--execute\n",
      "    Execute the notebook prior to export.\n",
      "    Equivalent to: [--ExecutePreprocessor.enabled=True]\n",
      "--allow-errors\n",
      "    Continue notebook execution even if one of the cells throws an error and include the error message in the cell output (the default behaviour is to abort conversion). This flag is only relevant if '--execute' was specified, too.\n",
      "    Equivalent to: [--ExecutePreprocessor.allow_errors=True]\n",
      "--stdin\n",
      "    read a single notebook file from stdin. Write the resulting notebook with default basename 'notebook.*'\n",
      "    Equivalent to: [--NbConvertApp.from_stdin=True]\n",
      "--stdout\n",
      "    Write notebook output to stdout instead of files.\n",
      "    Equivalent to: [--NbConvertApp.writer_class=StdoutWriter]\n",
      "--inplace\n",
      "    Run nbconvert in place, overwriting the existing notebook (only\n",
      "            relevant when converting to notebook format)\n",
      "    Equivalent to: [--NbConvertApp.use_output_suffix=False --NbConvertApp.export_format=notebook --FilesWriter.build_directory=]\n",
      "--clear-output\n",
      "    Clear output of current file and save in place,\n",
      "            overwriting the existing notebook.\n",
      "    Equivalent to: [--NbConvertApp.use_output_suffix=False --NbConvertApp.export_format=notebook --FilesWriter.build_directory= --ClearOutputPreprocessor.enabled=True]\n",
      "--no-prompt\n",
      "    Exclude input and output prompts from converted document.\n",
      "    Equivalent to: [--TemplateExporter.exclude_input_prompt=True --TemplateExporter.exclude_output_prompt=True]\n",
      "--no-input\n",
      "    Exclude input cells and output prompts from converted document.\n",
      "            This mode is ideal for generating code-free reports.\n",
      "    Equivalent to: [--TemplateExporter.exclude_output_prompt=True --TemplateExporter.exclude_input=True --TemplateExporter.exclude_input_prompt=True]\n",
      "--allow-chromium-download\n",
      "    Whether to allow downloading chromium if no suitable version is found on the system.\n",
      "    Equivalent to: [--WebPDFExporter.allow_chromium_download=True]\n",
      "--disable-chromium-sandbox\n",
      "    Disable chromium security sandbox when converting to PDF..\n",
      "    Equivalent to: [--WebPDFExporter.disable_sandbox=True]\n",
      "--show-input\n",
      "    Shows code input. This flag is only useful for dejavu users.\n",
      "    Equivalent to: [--TemplateExporter.exclude_input=False]\n",
      "--embed-images\n",
      "    Embed the images as base64 dataurls in the output. This flag is only useful for the HTML/WebPDF/Slides exports.\n",
      "    Equivalent to: [--HTMLExporter.embed_images=True]\n",
      "--sanitize-html\n",
      "    Whether the HTML in Markdown cells and cell outputs should be sanitized..\n",
      "    Equivalent to: [--HTMLExporter.sanitize_html=True]\n",
      "--log-level=<Enum>\n",
      "    Set the log level by value or name.\n",
      "    Choices: any of [0, 10, 20, 30, 40, 50, 'DEBUG', 'INFO', 'WARN', 'ERROR', 'CRITICAL']\n",
      "    Default: 30\n",
      "    Equivalent to: [--Application.log_level]\n",
      "--config=<Unicode>\n",
      "    Full path of a config file.\n",
      "    Default: ''\n",
      "    Equivalent to: [--JupyterApp.config_file]\n",
      "--to=<Unicode>\n",
      "    The export format to be used, either one of the built-in formats\n",
      "            ['asciidoc', 'custom', 'html', 'latex', 'markdown', 'notebook', 'pdf', 'python', 'rst', 'script', 'slides', 'webpdf']\n",
      "            or a dotted object name that represents the import path for an\n",
      "            ``Exporter`` class\n",
      "    Default: ''\n",
      "    Equivalent to: [--NbConvertApp.export_format]\n",
      "--template=<Unicode>\n",
      "    Name of the template to use\n",
      "    Default: ''\n",
      "    Equivalent to: [--TemplateExporter.template_name]\n",
      "--template-file=<Unicode>\n",
      "    Name of the template file to use\n",
      "    Default: None\n",
      "    Equivalent to: [--TemplateExporter.template_file]\n",
      "--theme=<Unicode>\n",
      "    Template specific theme(e.g. the name of a JupyterLab CSS theme distributed\n",
      "    as prebuilt extension for the lab template)\n",
      "    Default: 'light'\n",
      "    Equivalent to: [--HTMLExporter.theme]\n",
      "--sanitize_html=<Bool>\n",
      "    Whether the HTML in Markdown cells and cell outputs should be sanitized.This\n",
      "    should be set to True by nbviewer or similar tools.\n",
      "    Default: False\n",
      "    Equivalent to: [--HTMLExporter.sanitize_html]\n",
      "--writer=<DottedObjectName>\n",
      "    Writer class used to write the\n",
      "                                        results of the conversion\n",
      "    Default: 'FilesWriter'\n",
      "    Equivalent to: [--NbConvertApp.writer_class]\n",
      "--post=<DottedOrNone>\n",
      "    PostProcessor class used to write the\n",
      "                                        results of the conversion\n",
      "    Default: ''\n",
      "    Equivalent to: [--NbConvertApp.postprocessor_class]\n",
      "--output=<Unicode>\n",
      "    overwrite base name use for output files.\n",
      "                can only be used when converting one notebook at a time.\n",
      "    Default: ''\n",
      "    Equivalent to: [--NbConvertApp.output_base]\n",
      "--output-dir=<Unicode>\n",
      "    Directory to write output(s) to. Defaults\n",
      "                                  to output to the directory of each notebook. To recover\n",
      "                                  previous default behaviour (outputting to the current\n",
      "                                  working directory) use . as the flag value.\n",
      "    Default: ''\n",
      "    Equivalent to: [--FilesWriter.build_directory]\n",
      "--reveal-prefix=<Unicode>\n",
      "    The URL prefix for reveal.js (version 3.x).\n",
      "            This defaults to the reveal CDN, but can be any url pointing to a copy\n",
      "            of reveal.js.\n",
      "            For speaker notes to work, this must be a relative path to a local\n",
      "            copy of reveal.js: e.g., \"reveal.js\".\n",
      "            If a relative path is given, it must be a subdirectory of the\n",
      "            current directory (from which the server is run).\n",
      "            See the usage documentation\n",
      "            (https://nbconvert.readthedocs.io/en/latest/usage.html#reveal-js-html-slideshow)\n",
      "            for more details.\n",
      "    Default: ''\n",
      "    Equivalent to: [--SlidesExporter.reveal_url_prefix]\n",
      "--nbformat=<Enum>\n",
      "    The nbformat version to write.\n",
      "            Use this to downgrade notebooks.\n",
      "    Choices: any of [1, 2, 3, 4]\n",
      "    Default: 4\n",
      "    Equivalent to: [--NotebookExporter.nbformat_version]\n",
      "\n",
      "Examples\n",
      "--------\n",
      "\n",
      "    The simplest way to use nbconvert is\n",
      "\n",
      "            > jupyter nbconvert mynotebook.ipynb --to html\n",
      "\n",
      "            Options include ['asciidoc', 'custom', 'html', 'latex', 'markdown', 'notebook', 'pdf', 'python', 'rst', 'script', 'slides', 'webpdf'].\n",
      "\n",
      "            > jupyter nbconvert --to latex mynotebook.ipynb\n",
      "\n",
      "            Both HTML and LaTeX support multiple output templates. LaTeX includes\n",
      "            'base', 'article' and 'report'.  HTML includes 'basic', 'lab' and\n",
      "            'classic'. You can specify the flavor of the format used.\n",
      "\n",
      "            > jupyter nbconvert --to html --template lab mynotebook.ipynb\n",
      "\n",
      "            You can also pipe the output to stdout, rather than a file\n",
      "\n",
      "            > jupyter nbconvert mynotebook.ipynb --stdout\n",
      "\n",
      "            PDF is generated via latex\n",
      "\n",
      "            > jupyter nbconvert mynotebook.ipynb --to pdf\n",
      "\n",
      "            You can get (and serve) a Reveal.js-powered slideshow\n",
      "\n",
      "            > jupyter nbconvert myslides.ipynb --to slides --post serve\n",
      "\n",
      "            Multiple notebooks can be given at the command line in a couple of\n",
      "            different ways:\n",
      "\n",
      "            > jupyter nbconvert notebook*.ipynb\n",
      "            > jupyter nbconvert notebook1.ipynb notebook2.ipynb\n",
      "\n",
      "            or you can specify the notebooks list in a config file, containing::\n",
      "\n",
      "                c.NbConvertApp.notebooks = [\"my_notebook.ipynb\"]\n",
      "\n",
      "            > jupyter nbconvert --config mycfg.py\n",
      "\n",
      "To see all available configurables, use `--help-all`.\n",
      "\n"
     ]
    }
   ],
   "source": [
    "!pip install jupyter\n",
    "!pip install nbconvert\n",
    "!jupyter nbconvert \"/content/drive/MyDrive/ProjectEDA_Finovators.ipynb\" --to html"
   ]
  }
 ],
 "metadata": {
  "colab": {
   "provenance": []
  },
  "kernelspec": {
   "display_name": "Python 3 (ipykernel)",
   "language": "python",
   "name": "python3"
  },
  "language_info": {
   "codemirror_mode": {
    "name": "ipython",
    "version": 3
   },
   "file_extension": ".py",
   "mimetype": "text/x-python",
   "name": "python",
   "nbconvert_exporter": "python",
   "pygments_lexer": "ipython3",
   "version": "3.11.4"
  }
 },
 "nbformat": 4,
 "nbformat_minor": 1
}
